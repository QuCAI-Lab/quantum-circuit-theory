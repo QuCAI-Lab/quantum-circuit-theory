{
 "cells": [
  {
   "cell_type": "markdown",
   "metadata": {
    "id": "IT3xoU8Pp85F"
   },
   "source": [
    "<!-- Badges: -->\n",
    "\n",
    "<!-- Title: -->\n",
    "<div align=\"center\">\n",
    "  <h1><b> Gate & Circuit Identities </b></h1>\n",
    "  <h2> Quantum Circuit Theory and Implementations </h2>\n",
    "</div>\n",
    "<br>\n",
    "\n",
    "<b>Author:</b> <a target=\"_blank\" href=\"https://github.com/camponogaraviera\">Lucas Camponogara Viera</a>"
   ]
  },
  {
   "cell_type": "markdown",
   "metadata": {
    "id": "0U_0A5LcqCVY"
   },
   "source": [
    "<div align='center'>\n",
    "<table class=\"tfo-notebook-buttons\" align=\"head\">\n",
    "  <td>\n",
    "    <a target=\"_blank\" href=\"https://github.com/QuCAI-Lab/quantum-circuit-theory\"><img src=\"https://www.tensorflow.org/images/GitHub-Mark-32px.png\" /></a>\n",
    "  </td>\n",
    "</table>\n",
    "</div>"
   ]
  },
  {
   "cell_type": "markdown",
   "metadata": {
    "id": "4AH0fLJOvHt8"
   },
   "source": [
    "---\n",
    "See the [algebraic_identities.ipynb](https://github.com/QuCAI-Lab/quantum-circuit-theory/blob/dev/notebooks/algebraic_identities.ipynb) for the necessary algebraic identities used in the proof of the following gate identities.\n",
    "\n",
    "For more identities, refer to the [qc_identities.pdf](https://github.com/QuCAI-Lab/quantum-circuit-theory/blob/dev/notebooks/qc_identities.pdf).\n",
    "\n",
    "---"
   ]
  },
  {
   "cell_type": "code",
   "execution_count": 1,
   "metadata": {
    "id": "8kfqjQOVpqWJ",
    "outputId": "43ba2153-7635-4ef2-f8ad-7e86c449085c"
   },
   "outputs": [
    {
     "name": "stdout",
     "output_type": "stream",
     "text": [
      "Author: Lucas Camponogara Viera\n",
      "\n",
      "Github username: camponogaraviera\n",
      "\n",
      "Website: https://qucai-lab.github.io/\n",
      "\n",
      "Last updated: 2024-03-08\n",
      "\n",
      "Python implementation: CPython\n",
      "Python version       : 3.11.2\n",
      "IPython version      : 8.22.1\n",
      "\n",
      "Compiler    : GCC 11.2.0\n",
      "OS          : Linux\n",
      "Release     : 6.5.0-21-generic\n",
      "Machine     : x86_64\n",
      "Processor   : x86_64\n",
      "CPU cores   : 4\n",
      "Architecture: 64bit\n",
      "\n",
      "Git repo: https://github.com/QuCAI-Lab/quantum-circuit-theory.git\n",
      "\n",
      "Git branch: dev\n",
      "\n",
      "pylatexenc: 2.10\n",
      "watermark : 2.3.1\n",
      "IPython   : 8.22.1\n",
      "matplotlib: 3.6.2\n",
      "scipy     : 1.9.3\n",
      "sympy     : 1.11.1\n",
      "numpy     : 1.23.5\n",
      "pennylane : 0.28.0\n",
      "\n",
      "Watermark: 2.3.1\n",
      "\n",
      "{'commit_hash': 'cf4a6f5b6',\n",
      " 'commit_source': 'installation',\n",
      " 'default_encoding': 'utf-8',\n",
      " 'ipython_path': '/home/lucas/anaconda3/envs/qct/lib/python3.11/site-packages/IPython',\n",
      " 'ipython_version': '8.22.1',\n",
      " 'os_name': 'posix',\n",
      " 'platform': 'Linux-6.5.0-21-generic-x86_64-with-glibc2.35',\n",
      " 'sys_executable': '/home/lucas/anaconda3/envs/qct/bin/python',\n",
      " 'sys_platform': 'linux',\n",
      " 'sys_version': '3.11.2 (main, Mar 27 2023, 23:42:44) [GCC 11.2.0]'}\n"
     ]
    }
   ],
   "source": [
    "%run 10_implementations.ipynb"
   ]
  },
  {
   "cell_type": "markdown",
   "metadata": {
    "id": "giyAYar_9SxD",
    "jp-MarkdownHeadingCollapsed": true
   },
   "source": [
    "# Table of Contents\n",
    "\n",
    "- Qiskit little-endian convention.\n",
    "- Pauli gates.\n",
    "- Single-qubit gates.\n",
    "- Multi-qubit gates.\n",
    "- Rotations.\n",
    "- Conjugation by Unitary.  "
   ]
  },
  {
   "cell_type": "markdown",
   "metadata": {
    "jp-MarkdownHeadingCollapsed": true
   },
   "source": [
    "# 1. Qiskit little-endian convention"
   ]
  },
  {
   "cell_type": "markdown",
   "metadata": {},
   "source": [
    "In little-endian convention, higher qubit indices are more significant, i.e, the last qubit (highest register index) is stored first. In qiskit, one reads a circuit in a bottom-up approach, in the sense that a statevector $|abc\\rangle$ has quantum registers 0, 1, 2 in states $|c\\rangle$, $|b\\rangle$, $|a\\rangle$, respectively. Example: the state $|100\\rangle$, in qiskit, corresponds to a quantum circuit with the first qubit in state $|0\\rangle$, the middle qubit in state $|0\\rangle$, and the last qubit in state $|1\\rangle$."
   ]
  },
  {
   "cell_type": "markdown",
   "metadata": {
    "jp-MarkdownHeadingCollapsed": true
   },
   "source": [
    "## Circuit example 1"
   ]
  },
  {
   "cell_type": "markdown",
   "metadata": {},
   "source": [
    "Consider the following circuit:"
   ]
  },
  {
   "cell_type": "code",
   "execution_count": 3,
   "metadata": {},
   "outputs": [
    {
     "name": "stdout",
     "output_type": "stream",
     "text": [
      "Statevector([0.+0.j, 1.+0.j, 0.+0.j, 0.+0.j],\n",
      "            dims=(2, 2)) \n",
      "\n"
     ]
    },
    {
     "data": {
      "image/png": "[encoded data removed]",
      "text/plain": [
       "<Figure size 221.712x200.667 with 1 Axes>"
      ]
     },
     "execution_count": 3,
     "metadata": {},
     "output_type": "execute_result"
    }
   ],
   "source": [
    "backend = Aer.get_backend('unitary_simulator')\n",
    "dec = 2                                # Number of decimals for the matrix elements.\n",
    "qr = QuantumRegister(2)                # Define the number of qubits in the quantum circuit.\n",
    "qc = QuantumCircuit(qr, name='circuit')\n",
    "qc.x(0)                                # Apply the Pauli-X gate on qubit 0.\n",
    "print(Statevector.from_instruction(qc), '\\n')\n",
    "job = execute(qc, backend, shots=4000)\n",
    "result = job.result()\n",
    "unitary = result.get_unitary(qc, dec)\n",
    "qc.draw(output='mpl')"
   ]
  },
  {
   "cell_type": "code",
   "execution_count": 3,
   "metadata": {},
   "outputs": [
    {
     "data": {
      "text/latex": [
       "$$\n",
       "\\text{Unitary Matrix = }\n",
       "\n",
       "\\begin{bmatrix}\n",
       "0 & 1 & 0 & 0  \\\\\n",
       " 1 & 0 & 0 & 0  \\\\\n",
       " 0 & 0 & 0 & 1  \\\\\n",
       " 0 & 0 & 1 & 0  \\\\\n",
       " \\end{bmatrix}\n",
       "$$"
      ],
      "text/plain": [
       "<IPython.core.display.Latex object>"
      ]
     },
     "execution_count": 3,
     "metadata": {},
     "output_type": "execute_result"
    }
   ],
   "source": [
    "array_to_latex(unitary, prefix=\"\\\\text{Unitary Matrix = }\\n\")"
   ]
  },
  {
   "cell_type": "markdown",
   "metadata": {},
   "source": [
    "In little-endian convention, the circuit above has the following unitary operator:\n",
    "\n",
    "$$\\hat{U} = \\mathbb{I} \\otimes X.$$\n",
    "\n",
    "Such that \n",
    "\n",
    "$$\\hat{U} |00\\rangle = (\\mathbb{I} \\otimes X) (|0\\rangle \\otimes |0\\rangle)=\\mathbb{I}|0\\rangle \\otimes  X |0\\rangle=|0\\rangle \\otimes |1\\rangle =|01\\rangle = [0,1,0,0].$$"
   ]
  },
  {
   "cell_type": "code",
   "execution_count": 4,
   "metadata": {},
   "outputs": [
    {
     "data": {
      "text/plain": [
       "array([[0., 1., 0., 0.],\n",
       "       [1., 0., 0., 0.],\n",
       "       [0., 0., 0., 1.],\n",
       "       [0., 0., 1., 0.]])"
      ]
     },
     "execution_count": 4,
     "metadata": {},
     "output_type": "execute_result"
    }
   ],
   "source": [
    "# Operator I⊗X:\n",
    "np.kron(sigma0, sigma1)"
   ]
  },
  {
   "cell_type": "code",
   "execution_count": 5,
   "metadata": {},
   "outputs": [
    {
     "data": {
      "text/plain": [
       "array([[0.],\n",
       "       [1.],\n",
       "       [0.],\n",
       "       [0.]])"
      ]
     },
     "execution_count": 5,
     "metadata": {},
     "output_type": "execute_result"
    }
   ],
   "source": [
    "np.kron(sigma0, sigma1)@np.kron(zero,zero).T #(I⊗X)|00>=|01>."
   ]
  },
  {
   "cell_type": "code",
   "execution_count": 6,
   "metadata": {},
   "outputs": [
    {
     "data": {
      "text/plain": [
       "array([[0],\n",
       "       [1],\n",
       "       [0],\n",
       "       [0]])"
      ]
     },
     "execution_count": 6,
     "metadata": {},
     "output_type": "execute_result"
    }
   ],
   "source": [
    "np.kron(zero,one).T #|01>."
   ]
  },
  {
   "cell_type": "markdown",
   "metadata": {
    "jp-MarkdownHeadingCollapsed": true
   },
   "source": [
    "## Circuit example 2"
   ]
  },
  {
   "cell_type": "markdown",
   "metadata": {},
   "source": [
    "Consider the following circuit:"
   ]
  },
  {
   "cell_type": "code",
   "execution_count": 7,
   "metadata": {},
   "outputs": [
    {
     "name": "stdout",
     "output_type": "stream",
     "text": [
      "Statevector([0.+0.j, 0.+0.j, 1.+0.j, 0.+0.j],\n",
      "            dims=(2, 2)) \n",
      "\n"
     ]
    },
    {
     "data": {
      "image/png": "[encoded data removed]",
      "text/plain": [
       "<Figure size 222.116x200.667 with 1 Axes>"
      ]
     },
     "execution_count": 7,
     "metadata": {},
     "output_type": "execute_result"
    }
   ],
   "source": [
    "backend = Aer.get_backend('unitary_simulator')\n",
    "dec = 2                                # Number of decimals for the matrix elements.\n",
    "qr = QuantumRegister(2)                # Define the number of qubits in the quantum circuit.\n",
    "qc = QuantumCircuit(qr, name='circuit')\n",
    "qc.x(1)                                # Apply the Pauli-X gate on qubit 1.\n",
    "print(Statevector.from_instruction(qc), '\\n')\n",
    "job = execute(qc, backend, shots=4000)\n",
    "result = job.result()\n",
    "unitary = result.get_unitary(qc, dec)\n",
    "qc.draw(output='mpl')"
   ]
  },
  {
   "cell_type": "code",
   "execution_count": 8,
   "metadata": {},
   "outputs": [
    {
     "data": {
      "text/latex": [
       "$$\n",
       "\\text{Unitary Matrix = }\n",
       "\n",
       "\\begin{bmatrix}\n",
       "0 & 0 & 1 & 0  \\\\\n",
       " 0 & 0 & 0 & 1  \\\\\n",
       " 1 & 0 & 0 & 0  \\\\\n",
       " 0 & 1 & 0 & 0  \\\\\n",
       " \\end{bmatrix}\n",
       "$$"
      ],
      "text/plain": [
       "<IPython.core.display.Latex object>"
      ]
     },
     "execution_count": 8,
     "metadata": {},
     "output_type": "execute_result"
    }
   ],
   "source": [
    "array_to_latex(unitary, prefix=\"\\\\text{Unitary Matrix = }\\n\")"
   ]
  },
  {
   "cell_type": "markdown",
   "metadata": {},
   "source": [
    "In little-endian convention, the circuit above has the following unitary operator:\n",
    "\n",
    "$$\\hat{U} = X \\otimes \\mathbb{I} .$$\n",
    "\n",
    "Such that \n",
    "\n",
    "$$\\hat{U} |00\\rangle = ( X \\otimes \\mathbb{I}) (|0\\rangle \\otimes |0\\rangle)= X|0\\rangle \\otimes  \\mathbb{I} |0\\rangle=|1\\rangle \\otimes |0\\rangle =|10\\rangle = [0,0,1,0].$$"
   ]
  },
  {
   "cell_type": "code",
   "execution_count": 9,
   "metadata": {},
   "outputs": [
    {
     "data": {
      "text/plain": [
       "array([[0., 0., 1., 0.],\n",
       "       [0., 0., 0., 1.],\n",
       "       [1., 0., 0., 0.],\n",
       "       [0., 1., 0., 0.]])"
      ]
     },
     "execution_count": 9,
     "metadata": {},
     "output_type": "execute_result"
    }
   ],
   "source": [
    "# Operator X⊗I:\n",
    "np.kron(sigma1, sigma0) "
   ]
  },
  {
   "cell_type": "markdown",
   "metadata": {},
   "source": [
    "np.kron(sigma1, sigma0)@np.kron(zero,zero).T #(X⊗I)|00>=|10>."
   ]
  },
  {
   "cell_type": "code",
   "execution_count": 10,
   "metadata": {},
   "outputs": [
    {
     "data": {
      "text/plain": [
       "array([[0],\n",
       "       [0],\n",
       "       [1],\n",
       "       [0]])"
      ]
     },
     "execution_count": 10,
     "metadata": {},
     "output_type": "execute_result"
    }
   ],
   "source": [
    "np.kron(one,zero).T #|10>."
   ]
  },
  {
   "cell_type": "markdown",
   "metadata": {
    "jp-MarkdownHeadingCollapsed": true
   },
   "source": [
    "# 2. Pauli gates"
   ]
  },
  {
   "cell_type": "markdown",
   "metadata": {},
   "source": [
    "Recall from Pauli algebra:\n",
    "\n",
    "$$\\sigma_j \\sigma_k = \\delta_{jk} \\mathbb{I} + i\\epsilon_{jkl} \\sigma_l.$$\n",
    "\n",
    "One can then write:\n",
    "\n",
    "\\begin{align}\n",
    "YZ = \\sigma_2 \\sigma_3 &= \\delta_{23} \\mathbb{I} + i\\epsilon_{231} \\sigma_1 = i\\sigma_1 = i X. \\\\\n",
    "\\implies X &= -iYZ.\n",
    "\\end{align}\n",
    "\n",
    "\\begin{align}\n",
    "ZY = \\sigma_3\\sigma_2 &= \\delta_{32}\\mathbb{I}+i\\epsilon_{321}\\sigma_1 = -i\\sigma_1 = -iX.\\\\\n",
    "\\implies X &= iZY.\n",
    "\\end{align}\n",
    "\n",
    "\\begin{align}\n",
    "ZX = \\sigma_3 \\sigma_1 &= \\delta_{31} \\mathbb{I} + i\\epsilon_{312} \\sigma_2 = i\\sigma_2 = i Y. \\\\\n",
    "\\implies Y &= -iZX.\n",
    "\\end{align}\n",
    "\n",
    "\\begin{align}\n",
    "XZ = \\sigma_1\\sigma_3 &= \\delta_{13}\\mathbb{I}+i\\epsilon_{132}\\sigma_2 = -i\\sigma_2 = -iY.\\\\\n",
    "\\implies Y &= iXZ.\n",
    "\\end{align}"
   ]
  },
  {
   "cell_type": "markdown",
   "metadata": {
    "id": "n245cAXyUlxD",
    "jp-MarkdownHeadingCollapsed": true
   },
   "source": [
    "# 3. Single-qubit gates"
   ]
  },
  {
   "cell_type": "markdown",
   "metadata": {
    "id": "6DIiHCwnOKZ4"
   },
   "source": [
    "1. $P(\\lambda) = e^{i\\lambda/2}R_z(\\lambda)$\n",
    "2. $Z=e^{i\\pi/2}R_z(\\pi) = P(\\lambda = \\pi)$.\n",
    "3. $S=e^{i\\pi/4}R_z(\\pi/2) = P(\\lambda = \\pi/2)$.\n",
    "4. $T=e^{i\\pi/8}R_z(\\pi/4) = P(\\lambda =\\pi/4)$.\n",
    "5. $Y^{1/2} = R_y (\\pi/2) = \\sqrt{Y}$.\n",
    "6. $Y^{-1/2} = R_y (-\\pi/2) = (Y^{1/2})^{\\dagger}$.\n",
    "7. $H=R_y(\\pi/2)Z = Y^{1/2}Z$. \n",
    "8. $H=R_y(-\\pi/2)X=Y^{-1/2}X$.\n",
    "9. $H=iR_x(\\pi)R_y(\\pi/2)$.\n",
    "10. $R_x(\\theta) = R_z(\\pi/2) R_y(\\theta) R_z(-\\pi/2)$"
   ]
  },
  {
   "cell_type": "markdown",
   "metadata": {
    "id": "vubibmcLOQYh",
    "jp-MarkdownHeadingCollapsed": true
   },
   "source": [
    "## 3.1 Proofs"
   ]
  },
  {
   "cell_type": "markdown",
   "metadata": {
    "id": "YFvBbbikYNem"
   },
   "source": [
    "- Recall Euler's formula: $$e^{i\\theta} = cos(\\theta)+isin(\\theta).$$\n",
    "\n",
    "- Euler's identity then follows: \n",
    "\n",
    "\\begin{eqnarray}\n",
    "e^{i\\pi} &=& cos(\\pi)+isin(\\pi)=-1+i\\cdot 0=-1.\\\\\n",
    "e^{i\\pi/2}&=& i.\n",
    "\\end{eqnarray}\n",
    "\n",
    "From that,\n",
    "\\begin{eqnarray}\n",
    "e^{i\\pi} &=& cos(\\pi)+isin(\\pi)=-1+i\\cdot 0=-1. \\\\\n",
    "\\implies (e^{i\\pi})^n &=& e^{in\\pi}= cos(n\\pi)+isin(n\\pi) =-1^n.\\\\\n",
    "\\implies sin(n\\pi)&=&0. \\\\\n",
    "\\implies cos(n\\pi)&=&-1^n. \\\\\n",
    "\\end{eqnarray}"
   ]
  },
  {
   "cell_type": "markdown",
   "metadata": {
    "id": "yTaDug9v3H27"
   },
   "source": [
    "1.\n",
    "\n",
    "\\begin{align}\n",
    "P(\\lambda)\\equiv e^{i\\lambda/2}R_z(\\lambda) =\n",
    "e^{i\\lambda/2}\n",
    "\\begin{bmatrix} \n",
    "e^{-i\\lambda/2} & 0 \\\\ 0 & e^{i\\lambda/2}\n",
    "\\end{bmatrix}\n",
    "= \n",
    "\\begin{bmatrix} \n",
    "e^{i\\lambda (1/2-1/2)} & 0 \\\\ 0 & e^{i\\lambda(1/2+1/2)}\n",
    "\\end{bmatrix}\n",
    "=\n",
    "\\begin{bmatrix}\n",
    "1 & 0 \\\\ 0 & e^{i\\lambda}\n",
    "\\end{bmatrix}.\n",
    "\\end{align}"
   ]
  },
  {
   "cell_type": "markdown",
   "metadata": {
    "id": "q6FOHuSWLYuR"
   },
   "source": [
    "2. \n",
    "\n",
    "\\begin{align}\n",
    "e^{i\\pi/2}R_z(\\pi) =i\n",
    "\\begin{bmatrix} \n",
    "e^{-i\\pi/2} & 0 \\\\0 & e^{i\\pi/2}\n",
    "\\end{bmatrix}\n",
    "= i\n",
    "\\begin{bmatrix} \n",
    "cos(-\\frac{\\pi}{2})+isin(-\\frac{\\pi}{2}) & 0 \\\\0 & cos(\\frac{\\pi}{2})+isin(\\frac{\\pi}{2})\n",
    "\\end{bmatrix}\n",
    "=i\n",
    "\\begin{bmatrix} \n",
    "0-i & 0 \\\\0 & 0+i\n",
    "\\end{bmatrix}\n",
    "= \n",
    "\\begin{bmatrix}\n",
    "1 & 0 \\\\ 0 & -1\n",
    "\\end{bmatrix}\n",
    "=P(\\lambda = \\pi) = Z.\n",
    "\\end{align}"
   ]
  },
  {
   "cell_type": "markdown",
   "metadata": {
    "id": "8CMZuM5NFmRH"
   },
   "source": [
    "3. \n",
    "\n",
    "\\begin{align}\n",
    "e^{i\\pi/4}R_z(\\pi/2) =\n",
    "e^{i\\pi/4}\n",
    "\\begin{bmatrix} \n",
    "e^{-i\\pi/4} & 0 \\\\ 0 & e^{i\\pi/4}\n",
    "\\end{bmatrix}\n",
    "= \n",
    "\\begin{bmatrix}\n",
    "1 & 0 \\\\ 0 & e^{i\\pi/2}\n",
    "\\end{bmatrix}\n",
    "=\n",
    "P(\\lambda = \\pi/2)\n",
    "=\n",
    "\\begin{bmatrix}\n",
    "1 & 0 \\\\ 0 & i\n",
    "\\end{bmatrix}\n",
    "=S.\n",
    "\\end{align}"
   ]
  },
  {
   "cell_type": "markdown",
   "metadata": {
    "id": "PumT5nEJP5f5"
   },
   "source": [
    "4. \n",
    "\n",
    "\\begin{align}\n",
    "e^{i\\pi/8} R_z(\\pi/4) = e^{i\\pi/8} \n",
    "\\begin{bmatrix} e^{- i\\pi/8} & 0 \\\\0 & e^{i\\pi/8}\n",
    "\\end{bmatrix}\n",
    "=\n",
    "\\begin{bmatrix}\n",
    "1 & 0 \\\\ 0 & e^{i\\pi/4}\n",
    "\\end{bmatrix}\n",
    "= P(\\lambda =\\pi/4) = T.\n",
    "\\end{align}"
   ]
  },
  {
   "cell_type": "markdown",
   "metadata": {
    "id": "g5pS5t3VQiFk"
   },
   "source": [
    "5. \n",
    "\n",
    "\\begin{align}\n",
    "R_y(\\pi/2) =\n",
    "\\begin{bmatrix} \n",
    "\\cos(\\pi/4) & -\\sin(\\pi/4) \\\\ \\sin(\\pi/4) & \\cos(\\pi/4) \n",
    "\\end{bmatrix}\n",
    "= \n",
    "\\begin{bmatrix}\n",
    "\\frac{1}{\\sqrt{2}} & -\\frac{1}{\\sqrt{2}} \\\\ \\frac{1}{\\sqrt{2}} & \\frac{1}{\\sqrt{2}}\n",
    "\\end{bmatrix}\n",
    " = Y^{1/2}.\n",
    "\\end{align}"
   ]
  },
  {
   "cell_type": "markdown",
   "metadata": {
    "id": "znE6cpr8Qk2R"
   },
   "source": [
    "6. \n",
    "\n",
    "\\begin{align}\n",
    "R_y(-\\pi/2) =\n",
    "\\begin{bmatrix} \n",
    "\\cos(\\pi/4) & \\sin(\\pi/4) \\\\ -\\sin(\\pi/4) & \\cos(\\pi/4) \n",
    "\\end{bmatrix} \n",
    "= \n",
    "\\begin{bmatrix}\n",
    "\\frac{1}{\\sqrt{2}} & \\frac{1}{\\sqrt{2}} \\\\ -\\frac{1}{\\sqrt{2}} & \\frac{1}{\\sqrt{2}}\n",
    "\\end{bmatrix}\n",
    " = Y^{-1/2}.\n",
    "\\end{align}"
   ]
  },
  {
   "cell_type": "markdown",
   "metadata": {
    "id": "8CNS60LfQo1C"
   },
   "source": [
    "7. \n",
    "\n",
    "\\begin{align}\n",
    "R_y(\\pi/2)Z =\n",
    "\\begin{bmatrix}\n",
    "\\frac{1}{\\sqrt{2}} & -\\frac{1}{\\sqrt{2}} \\\\ \\frac{1}{\\sqrt{2}} & \\frac{1}{\\sqrt{2}}\n",
    "\\end{bmatrix}\n",
    "\\begin{bmatrix}\n",
    "1 & 0 \\\\ 0 & -1\n",
    "\\end{bmatrix}\n",
    "= \\begin{bmatrix}\n",
    "\\frac{1}{\\sqrt{2}} & \\frac{1}{\\sqrt{2}} \\\\ \\frac{1}{\\sqrt{2}} & -\\frac{1}{\\sqrt{2}}\n",
    "\\end{bmatrix}\n",
    "= H.\n",
    "\\end{align}"
   ]
  },
  {
   "cell_type": "markdown",
   "metadata": {
    "id": "ULIoO_IOFHQh"
   },
   "source": [
    "8. \n",
    "\n",
    "\\begin{align}\n",
    "R_y(-\\pi/2)X =\n",
    "\\begin{bmatrix}\n",
    "\\frac{1}{\\sqrt{2}} & \\frac{1}{\\sqrt{2}} \\\\ -\\frac{1}{\\sqrt{2}} & \\frac{1}{\\sqrt{2}}\n",
    "\\end{bmatrix}\n",
    "\\begin{bmatrix}\n",
    "0 & 1 \\\\ 1 & 0\n",
    "\\end{bmatrix}\n",
    "= \\begin{bmatrix}\n",
    "\\frac{1}{\\sqrt{2}} & \\frac{1}{\\sqrt{2}} \\\\ \\frac{1}{\\sqrt{2}} & -\\frac{1}{\\sqrt{2}}\n",
    "\\end{bmatrix}\n",
    "= H.\n",
    "\\end{align}"
   ]
  },
  {
   "cell_type": "markdown",
   "metadata": {},
   "source": [
    "9. \n",
    "\n",
    "\\begin{align}\n",
    "iR_x(\\pi)R_y(\\pi/2) &=\n",
    "i \\begin{bmatrix} \\cos(\\pi/2) & - i\\sin(\\pi/2) \\\\ - i\\sin(\\pi/2) & \\cos(\\pi/2) \\end{bmatrix}\n",
    "\\begin{bmatrix}\n",
    "\\frac{1}{\\sqrt{2}} & -\\frac{1}{\\sqrt{2}} \\\\ \\frac{1}{\\sqrt{2}} & \\frac{1}{\\sqrt{2}}\n",
    "\\end{bmatrix}\n",
    "\\\\\n",
    "&= i \\begin{bmatrix} 0 & - i \\\\ - i & 0 \\end{bmatrix}\n",
    "\\begin{bmatrix}\n",
    "\\frac{1}{\\sqrt{2}} & -\\frac{1}{\\sqrt{2}} \\\\ \\frac{1}{\\sqrt{2}} & \\frac{1}{\\sqrt{2}}\n",
    "\\end{bmatrix}\n",
    "\\\\\n",
    "&= \\begin{bmatrix} 0 & 1 \\\\ 1 & 0 \\end{bmatrix}\n",
    "\\begin{bmatrix}\n",
    "\\frac{1}{\\sqrt{2}} & -\\frac{1}{\\sqrt{2}} \\\\ \\frac{1}{\\sqrt{2}} & \\frac{1}{\\sqrt{2}}\n",
    "\\end{bmatrix}\n",
    "\\\\\n",
    "&= \\begin{bmatrix}\n",
    "\\frac{1}{\\sqrt{2}} & \\frac{1}{\\sqrt{2}} \\\\ \\frac{1}{\\sqrt{2}} & -\\frac{1}{\\sqrt{2}}\n",
    "\\end{bmatrix}\n",
    "= H.\n",
    "\\end{align}"
   ]
  },
  {
   "cell_type": "code",
   "execution_count": 4,
   "metadata": {
    "colab": {
     "base_uri": "https://localhost:8080/"
    },
    "executionInfo": {
     "elapsed": 281,
     "status": "ok",
     "timestamp": 1666770805870,
     "user": {
      "displayName": "Lucas Camponogara Viera",
      "userId": "14322290658374940800"
     },
     "user_tz": -480
    },
    "id": "Mp3ihH6GRibm",
    "outputId": "b046a6c2-b951-46d7-ffd2-0a6420cd59dc"
   },
   "outputs": [
    {
     "data": {
      "text/plain": [
       "True"
      ]
     },
     "execution_count": 4,
     "metadata": {},
     "output_type": "execute_result"
    }
   ],
   "source": [
    "# sin(npi) = sin(0) = sin(π) = sin(2π) = 0.\n",
    "(np.sin(np.pi)).round(2) == 0"
   ]
  },
  {
   "cell_type": "code",
   "execution_count": null,
   "metadata": {
    "colab": {
     "base_uri": "https://localhost:8080/"
    },
    "executionInfo": {
     "elapsed": 261,
     "status": "ok",
     "timestamp": 1666770811860,
     "user": {
      "displayName": "Lucas Camponogara Viera",
      "userId": "14322290658374940800"
     },
     "user_tz": -480
    },
    "id": "C4_U_VQdRmRG",
    "outputId": "36b84f54-796f-47ff-8e4c-8c80ca9adab7"
   },
   "outputs": [
    {
     "data": {
      "text/plain": [
       "True"
      ]
     },
     "execution_count": 3,
     "metadata": {},
     "output_type": "execute_result"
    }
   ],
   "source": [
    "# cos(π) = -1.\n",
    "(np.cos(np.pi)).round(2) == -1"
   ]
  },
  {
   "cell_type": "code",
   "execution_count": null,
   "metadata": {
    "colab": {
     "base_uri": "https://localhost:8080/"
    },
    "executionInfo": {
     "elapsed": 252,
     "status": "ok",
     "timestamp": 1666770841676,
     "user": {
      "displayName": "Lucas Camponogara Viera",
      "userId": "14322290658374940800"
     },
     "user_tz": -480
    },
    "id": "oX6c7DN9QwKh",
    "outputId": "d0c1feaa-8ed5-4c73-899d-ad120bf6fddb"
   },
   "outputs": [
    {
     "data": {
      "text/plain": [
       "True"
      ]
     },
     "execution_count": 4,
     "metadata": {},
     "output_type": "execute_result"
    }
   ],
   "source": [
    "# sin(π/2) = 1.\n",
    "(np.sin(np.pi/2)).round(2) == 1"
   ]
  },
  {
   "cell_type": "code",
   "execution_count": null,
   "metadata": {
    "colab": {
     "base_uri": "https://localhost:8080/"
    },
    "executionInfo": {
     "elapsed": 239,
     "status": "ok",
     "timestamp": 1666770837053,
     "user": {
      "displayName": "Lucas Camponogara Viera",
      "userId": "14322290658374940800"
     },
     "user_tz": -480
    },
    "id": "P4OEKh9NQ1tR",
    "outputId": "0b25a56d-fe82-4732-bd0c-b7772f7d0172"
   },
   "outputs": [
    {
     "data": {
      "text/plain": [
       "True"
      ]
     },
     "execution_count": 5,
     "metadata": {},
     "output_type": "execute_result"
    }
   ],
   "source": [
    "# cos(π/2) = 0.\n",
    "(np.cos(np.pi/2)).round(2) == 0"
   ]
  },
  {
   "cell_type": "code",
   "execution_count": null,
   "metadata": {
    "colab": {
     "base_uri": "https://localhost:8080/"
    },
    "executionInfo": {
     "elapsed": 264,
     "status": "ok",
     "timestamp": 1666770826084,
     "user": {
      "displayName": "Lucas Camponogara Viera",
      "userId": "14322290658374940800"
     },
     "user_tz": -480
    },
    "id": "BvIsYz574_eV",
    "outputId": "d0f1274d-0a81-4fe2-e89d-0de09124c4c2"
   },
   "outputs": [
    {
     "data": {
      "text/plain": [
       "True"
      ]
     },
     "execution_count": 6,
     "metadata": {},
     "output_type": "execute_result"
    }
   ],
   "source": [
    "# sin(π/4) = cos(π/4) = 1/√2.\n",
    "(np.sin(np.pi/4)).round(3) == (1/np.sqrt(2)).round(3)"
   ]
  },
  {
   "cell_type": "markdown",
   "metadata": {},
   "source": [
    "# 4. Multi-qubit gates"
   ]
  },
  {
   "cell_type": "markdown",
   "metadata": {},
   "source": [
    "For a graphical visualization, refer to the [qc_identities.pdf](https://github.com/QuCAI-Lab/quantum-circuit-theory/blob/dev/notebooks/qc_identities.pdf)."
   ]
  },
  {
   "cell_type": "markdown",
   "metadata": {
    "id": "Rni0WeD-XrVQ",
    "jp-MarkdownHeadingCollapsed": true
   },
   "source": [
    "# 5. Rotations"
   ]
  },
  {
   "cell_type": "markdown",
   "metadata": {
    "id": "3ONA29RAVLFv"
   },
   "source": [
    "Let $R_{\\hat{n}}(\\theta)$ be the single-qubit standard rotation gate $R_{\\hat{n}}(\\theta)$ performing an arbitrary angle of $\\theta$ radians around an arbitrary $\\hat{n}$ axis of the Bloch sphere.\n",
    "\n",
    "The following identities hold:\n",
    "\n",
    "- 1) Product of two rotations: $$R_{\\hat{n}}(\\theta_1)R_{\\hat{n}}(\\theta_2)=R_{\\hat{n}}(\\theta_1+\\theta_2).$$\n",
    "\n",
    "- 2) Tensor product of rotations: $$R_{\\hat{n}_j}(\\theta_1) \\otimes R_{\\hat{n}_k}(\\theta_2)= e^{-\\frac{i}{2}((\\theta_1\\hat{\\sigma}_j) \\otimes \\mathbb{I}+\\mathbb{I} \\otimes (\\theta_2\\hat{\\sigma}_k))}.$$\n",
    "\n",
    "Let $X$ and $Z$ represent the Pauli-X and Pauli-Z gates, respectively, and $R_y$ be the single-qubit standard rotation gate around the y-axis.\n",
    "\n",
    "- 1) Rotating $Z$ to $X$: $$R_y(\\pi/2) Z R_y(-\\pi/2) = X.$$\n",
    "\n",
    "- 2) Rotating $Z\\otimes Z$ to $X\\otimes X$: $$(R_y(\\pi/2) \\otimes R_y(\\pi/2)) (Z\\otimes Z) (R_y(-\\pi/2) \\otimes R_y(-\\pi/2)) = X\\otimes X.$$"
   ]
  },
  {
   "cell_type": "markdown",
   "metadata": {
    "id": "23CaEmeg5isY",
    "jp-MarkdownHeadingCollapsed": true
   },
   "source": [
    "## 5.1 Proofs"
   ]
  },
  {
   "cell_type": "markdown",
   "metadata": {
    "id": "vcSsuPn-bEv1",
    "jp-MarkdownHeadingCollapsed": true
   },
   "source": [
    "### $R_{\\hat{n}}(\\theta_1)R_{\\hat{n}}(\\theta_2)=R_{\\hat{n}}(\\theta_1+\\theta_2)$"
   ]
  },
  {
   "cell_type": "markdown",
   "metadata": {
    "id": "e5Vsx6AUbFUz"
   },
   "source": [
    "$$R_{\\hat{n}}(\\theta_2)R_{\\hat{n}}(\\theta_1)=e^{-i(\\hat{n}\\cdot \\vec{\\sigma})\\theta_2/2}e^{-i(\\hat{n}\\cdot \\vec{\\sigma})\\theta_1/2}.$$\n",
    "\n",
    "Now, since $[\\theta_1(\\hat{n}\\cdot\\vec{\\sigma}),\\theta_2(\\hat{n}\\cdot\\vec{\\sigma})]=\\mathbb{O}$, one can use $e^{At_1}e^{Bt_2}=e^{(At_1+Bt_2)}$ to obtain\n",
    "\n",
    "$$R_{\\hat{n}}(\\theta_2)R_{\\hat{n}}(\\theta_1)=e^{-i(\\hat{n}\\cdot \\vec{\\sigma})\\theta_2/2}e^{-i(\\hat{n}\\cdot \\vec{\\sigma})\\theta_1/2} = e^{-i(\\hat{n}\\cdot \\vec{\\sigma}) (\\theta_1+\\theta_2)/2}=R_{\\hat{n}}(\\theta_1+\\theta_2).$$\n",
    "\n",
    "Q.E.D."
   ]
  },
  {
   "cell_type": "markdown",
   "metadata": {
    "id": "mtovUzj4iB2P",
    "jp-MarkdownHeadingCollapsed": true
   },
   "source": [
    "### $R_{y}(\\theta_1)R_{y}(\\theta_2)=R_{y}(\\theta_1+\\theta_2).$"
   ]
  },
  {
   "cell_type": "markdown",
   "metadata": {
    "id": "TM4lr6I0iIJk"
   },
   "source": [
    "It follows directly from $$R_{\\hat{n}}(\\theta_2)R_{\\hat{n}}(\\theta_1)=R_{\\hat{n}}(\\theta_1+\\theta_2).$$"
   ]
  },
  {
   "cell_type": "markdown",
   "metadata": {
    "id": "X6xAeSvWbEBx",
    "jp-MarkdownHeadingCollapsed": true
   },
   "source": [
    "### $R_{\\hat{n}_j}(\\theta_1) \\otimes R_{\\hat{n}_k}(\\theta_2)= e^{-\\frac{i}{2}((\\theta_1\\hat{\\sigma}_j) \\otimes \\mathbb{I}+\\mathbb{I} \\otimes (\\theta_2\\hat{\\sigma}_k))}$"
   ]
  },
  {
   "cell_type": "markdown",
   "metadata": {
    "id": "vOaaDYRtbF33"
   },
   "source": [
    "$$R_{\\hat{n}_j}(\\theta_1) \\otimes R_{\\hat{n}_k}(\\theta_2)=e^{-i(\\hat{n}_j\\cdot \\vec{\\sigma})\\theta_1/2} \\otimes e^{-i(\\hat{n}_k\\cdot \\vec{\\sigma})\\theta_2/2},$$\n",
    "\n",
    "and using $e^A \\otimes e^B=e^{A \\otimes \\mathbb{I}_n} e^{\\mathbb{I}_m \\otimes B}=e^{A \\otimes \\mathbb{I}_n + \\mathbb{I}_m \\otimes B},$ one gets\n",
    "\n",
    "$$R_{\\hat{n}_j}(\\theta_1) \\otimes R_{\\hat{n}_k}(\\theta_2)=e^{-i(\\hat{n}_j\\cdot \\vec{\\sigma})\\theta_1/2} \\otimes e^{-i(\\hat{n}_k\\cdot \\vec{\\sigma})\\theta_2/2} = e^{-\\frac{i}{2}((\\theta_1\\hat{\\sigma}_j) \\otimes \\mathbb{I}+\\mathbb{I} \\otimes (\\theta_2 \\hat{\\sigma}_k))}.$$\n",
    "\n",
    "Q.E.D."
   ]
  },
  {
   "cell_type": "markdown",
   "metadata": {
    "id": "NQ7jex-O_kW_",
    "jp-MarkdownHeadingCollapsed": true
   },
   "source": [
    "### $R_y(\\pi/2) Z R_y(-\\pi/2) = X$"
   ]
  },
  {
   "cell_type": "markdown",
   "metadata": {
    "id": "9L7IUCej9ZMz"
   },
   "source": [
    "**Verifying with NumPy:**"
   ]
  },
  {
   "cell_type": "code",
   "execution_count": null,
   "metadata": {
    "colab": {
     "base_uri": "https://localhost:8080/"
    },
    "executionInfo": {
     "elapsed": 5,
     "status": "ok",
     "timestamp": 1663628038803,
     "user": {
      "displayName": "Lucas Camponogara Viera",
      "userId": "14322290658374940800"
     },
     "user_tz": -480
    },
    "id": "rpOvidIK2r_5",
    "outputId": "ad36f31c-a71e-4293-e086-515bd8e32927"
   },
   "outputs": [
    {
     "data": {
      "text/plain": [
       "True"
      ]
     },
     "execution_count": 49,
     "metadata": {},
     "output_type": "execute_result"
    }
   ],
   "source": [
    "((ry_pi2@sigma3@ry_mpi2).round() == sigma1).all() # Ry(π/2) ⋅ Z ⋅ Ry(−π/2) = X."
   ]
  },
  {
   "cell_type": "markdown",
   "metadata": {
    "id": "_eO57siH-nZo",
    "jp-MarkdownHeadingCollapsed": true
   },
   "source": [
    "### $(R_y(\\pi/2) \\otimes R_y(\\pi/2)) (Z\\otimes Z) (R_y(-\\pi/2) \\otimes R_y(-\\pi/2)) = X\\otimes X$"
   ]
  },
  {
   "cell_type": "markdown",
   "metadata": {
    "id": "jCpWlESFe7lu"
   },
   "source": [
    "Using the associative property $ABC = (AB)C$, one writes\n",
    "\n",
    "\\begin{align}\n",
    "(R_y(\\pi/2) \\otimes R_y(\\pi/2)) (Z\\otimes Z) (R_y(-\\pi/2) \\otimes R_y(-\\pi/2))=&\\\\\n",
    "\\bigg[\\big(R_y(\\pi/2) \\otimes R_y(\\pi/2)\\big) \\big(Z\\otimes Z \\big)\\bigg] \\bigg(R_y(-\\pi/2) \\otimes R_y(-\\pi/2)\\bigg)=&\n",
    "\\end{align}\n",
    "\n",
    "and using the mixed product property $(A\\otimes B)(C\\otimes D) = AC\\otimes BD$, one gets\n",
    "\n",
    "\\begin{align}\n",
    "\\bigg[\\bigg(R_y(\\pi/2)Z\\bigg) \\otimes \\bigg(R_y(\\pi/2)Z\\bigg)\\bigg] \\bigg(R_y(-\\pi/2) \\otimes R_y(-\\pi/2)\\bigg)\n",
    "=&\\\\\n",
    "\\bigg(R_y(\\pi/2)ZR_y(-\\pi/2)\\bigg) \\otimes \\bigg(R_y(\\pi/2)ZR_y(-\\pi/2)\\bigg)=&\\\\\n",
    "=& X\\otimes X.\n",
    "\\end{align}\n",
    "\n",
    "Q.E.D."
   ]
  },
  {
   "cell_type": "markdown",
   "metadata": {
    "id": "ZddcRgcp__rx"
   },
   "source": [
    "**Verifying with NumPy:**"
   ]
  },
  {
   "cell_type": "code",
   "execution_count": null,
   "metadata": {
    "colab": {
     "base_uri": "https://localhost:8080/"
    },
    "executionInfo": {
     "elapsed": 471,
     "status": "ok",
     "timestamp": 1663628039270,
     "user": {
      "displayName": "Lucas Camponogara Viera",
      "userId": "14322290658374940800"
     },
     "user_tz": -480
    },
    "id": "DsismPrVbxDx",
    "outputId": "c11b8eec-ba53-4fc6-f967-8e2ff5539092"
   },
   "outputs": [
    {
     "data": {
      "text/plain": [
       "True"
      ]
     },
     "execution_count": 50,
     "metadata": {},
     "output_type": "execute_result"
    }
   ],
   "source": [
    "ZZ = np.kron(sigma3,sigma3)\n",
    "XX = np.kron(sigma1,sigma1)\n",
    "RY1=np.kron(ry_pi2,ry_pi2)\n",
    "RY2=np.kron(ry_mpi2,ry_mpi2)\n",
    "\n",
    "(((RY1)@(ZZ)@(RY2)).round()==XX).all()"
   ]
  },
  {
   "cell_type": "code",
   "execution_count": null,
   "metadata": {
    "colab": {
     "base_uri": "https://localhost:8080/"
    },
    "executionInfo": {
     "elapsed": 6,
     "status": "ok",
     "timestamp": 1663628039270,
     "user": {
      "displayName": "Lucas Camponogara Viera",
      "userId": "14322290658374940800"
     },
     "user_tz": -480
    },
    "id": "fkAEljYk8GV0",
    "outputId": "66df5473-0a36-45ce-fcd9-0adcc6250ab1"
   },
   "outputs": [
    {
     "data": {
      "text/plain": [
       "array([[ 0.,  0.,  0.,  1.],\n",
       "       [ 0.,  0.,  1., -0.],\n",
       "       [ 0.,  1.,  0., -0.],\n",
       "       [ 1., -0., -0.,  0.]])"
      ]
     },
     "execution_count": 51,
     "metadata": {},
     "output_type": "execute_result"
    }
   ],
   "source": [
    "#Left Hand side (LHS):\n",
    "\n",
    "((RY1)@(ZZ)@(RY2)).round() # (Ry(π/2)⊗Ry(π/2)) ⋅ (Z⊗Z) ⋅ (Ry(−π/2)⊗Ry(−π/2)) = X⊗X."
   ]
  },
  {
   "cell_type": "code",
   "execution_count": null,
   "metadata": {
    "colab": {
     "base_uri": "https://localhost:8080/"
    },
    "executionInfo": {
     "elapsed": 5,
     "status": "ok",
     "timestamp": 1663628039270,
     "user": {
      "displayName": "Lucas Camponogara Viera",
      "userId": "14322290658374940800"
     },
     "user_tz": -480
    },
    "id": "esQ6NY_78Kv8",
    "outputId": "e1fd9b1d-e5f9-4c0c-e75c-983b181adb57"
   },
   "outputs": [
    {
     "data": {
      "text/plain": [
       "array([[0., 0., 0., 1.],\n",
       "       [0., 0., 1., 0.],\n",
       "       [0., 1., 0., 0.],\n",
       "       [1., 0., 0., 0.]], dtype=float32)"
      ]
     },
     "execution_count": 52,
     "metadata": {},
     "output_type": "execute_result"
    }
   ],
   "source": [
    "#Right Hand side (RHS):\n",
    "\n",
    "XX # X⊗X."
   ]
  },
  {
   "cell_type": "markdown",
   "metadata": {
    "id": "a8f39d7c-0407-4eaa-9b25-bec76cde9de9",
    "jp-MarkdownHeadingCollapsed": true
   },
   "source": [
    "### $X \\otimes X = (X \\otimes X)^{\\dagger}$\n",
    "\n",
    "**Hermitian property of Pauli X.**"
   ]
  },
  {
   "cell_type": "markdown",
   "metadata": {},
   "source": [
    "**Matrix approach:**"
   ]
  },
  {
   "cell_type": "markdown",
   "metadata": {
    "id": "tEsAdv_b3Iwg"
   },
   "source": [
    "\\begin{eqnarray}\n",
    "\\sigma_{j=1} &\\equiv& X \\doteq\n",
    "\\begin{pmatrix}\n",
    "0 & 1 \\\\\n",
    "1 & 0\n",
    "\\end{pmatrix}.\\\\\n",
    "X\\otimes X &=&\n",
    "\\begin{pmatrix}\n",
    "0 & 1 \\\\\n",
    "1 & 0\n",
    "\\end{pmatrix}\n",
    "\\otimes \n",
    "\\begin{pmatrix}\n",
    "0 & 1 \\\\\n",
    "1 & 0\n",
    "\\end{pmatrix}\n",
    "=\n",
    "\\begin{bmatrix} \n",
    "0\n",
    "\\begin{bmatrix} \n",
    "0 & 1 \\\\\n",
    "1 & 0\n",
    "\\end{bmatrix}\n",
    "1\n",
    "\\begin{bmatrix} \n",
    "0 & 1 \\\\\n",
    "1 & 0\n",
    "\\end{bmatrix}\\\\\n",
    "1\n",
    "\\begin{bmatrix} \n",
    "0 & 1 \\\\\n",
    "1 & 0\n",
    "\\end{bmatrix}\n",
    "0\n",
    "\\begin{bmatrix} \n",
    "0 & 1 \\\\\n",
    "1 & 0\n",
    "\\end{bmatrix} \n",
    "\\end{bmatrix}\n",
    "=\n",
    "\\begin{bmatrix} \n",
    "0 & 0 & 0 & 1\\\\\n",
    "0 & 0 & 1 & 0\\\\\n",
    "0 & 1 & 0 & 0\\\\\n",
    "1 & 0 & 0 & 0\\\\\n",
    "\\end{bmatrix}.\\\\\n",
    "(X\\otimes X)^{\\dagger} &=& {\\Bigg[(X\\otimes X)^{T}\\Bigg]}^* =\n",
    "\\begin{bmatrix} \n",
    "0 & 0 & 0 & 1\\\\\n",
    "0 & 0 & 1 & 0\\\\\n",
    "0 & 1 & 0 & 0\\\\\n",
    "1 & 0 & 0 & 0\\\\\n",
    "\\end{bmatrix}^*\n",
    "=\n",
    "\\begin{bmatrix} \n",
    "0 & 0 & 0 & 1\\\\\n",
    "0 & 0 & 1 & 0\\\\\n",
    "0 & 1 & 0 & 0\\\\\n",
    "1 & 0 & 0 & 0\\\\\n",
    "\\end{bmatrix}\n",
    "= X\\otimes X.\n",
    "\\end{eqnarray}\n",
    "\n",
    "Q.E.D."
   ]
  },
  {
   "cell_type": "markdown",
   "metadata": {},
   "source": [
    "**Verifying with NumPy:**"
   ]
  },
  {
   "cell_type": "code",
   "execution_count": null,
   "metadata": {
    "colab": {
     "base_uri": "https://localhost:8080/"
    },
    "executionInfo": {
     "elapsed": 5,
     "status": "ok",
     "timestamp": 1663628025221,
     "user": {
      "displayName": "Lucas Camponogara Viera",
      "userId": "14322290658374940800"
     },
     "user_tz": -480
    },
    "id": "1f333fca-210d-4f93-bb00-3dfbf8d85961",
    "outputId": "f7312ec6-6ca2-4167-aea5-6a0c6f56af29"
   },
   "outputs": [
    {
     "data": {
      "text/plain": [
       "True"
      ]
     },
     "execution_count": 53,
     "metadata": {},
     "output_type": "execute_result"
    }
   ],
   "source": [
    "(np.kron(sigma1, sigma1) == np.kron(sigma1, sigma1).conj().T).all() "
   ]
  },
  {
   "cell_type": "code",
   "execution_count": null,
   "metadata": {
    "colab": {
     "base_uri": "https://localhost:8080/"
    },
    "executionInfo": {
     "elapsed": 5,
     "status": "ok",
     "timestamp": 1663628025221,
     "user": {
      "displayName": "Lucas Camponogara Viera",
      "userId": "14322290658374940800"
     },
     "user_tz": -480
    },
    "id": "LJm8VQPjgE5u",
    "outputId": "c1ef1960-a6ab-4e8c-ca1c-4731c42cc73a"
   },
   "outputs": [
    {
     "data": {
      "text/plain": [
       "array([[0., 0., 0., 1.],\n",
       "       [0., 0., 1., 0.],\n",
       "       [0., 1., 0., 0.],\n",
       "       [1., 0., 0., 0.]], dtype=float32)"
      ]
     },
     "execution_count": 54,
     "metadata": {},
     "output_type": "execute_result"
    }
   ],
   "source": [
    "np.kron(sigma1, sigma1)"
   ]
  },
  {
   "cell_type": "code",
   "execution_count": null,
   "metadata": {
    "colab": {
     "base_uri": "https://localhost:8080/"
    },
    "executionInfo": {
     "elapsed": 4,
     "status": "ok",
     "timestamp": 1663628025221,
     "user": {
      "displayName": "Lucas Camponogara Viera",
      "userId": "14322290658374940800"
     },
     "user_tz": -480
    },
    "id": "KaXyiCW9gHdb",
    "outputId": "d3ab6f15-a5c7-4ca9-f7dd-f51ca0052c91"
   },
   "outputs": [
    {
     "data": {
      "text/plain": [
       "array([[0., 0., 0., 1.],\n",
       "       [0., 0., 1., 0.],\n",
       "       [0., 1., 0., 0.],\n",
       "       [1., 0., 0., 0.]], dtype=float32)"
      ]
     },
     "execution_count": 55,
     "metadata": {},
     "output_type": "execute_result"
    }
   ],
   "source": [
    "np.kron(sigma1, sigma1).conj().T"
   ]
  },
  {
   "cell_type": "markdown",
   "metadata": {
    "jp-MarkdownHeadingCollapsed": true
   },
   "source": [
    "### Special cases"
   ]
  },
  {
   "cell_type": "markdown",
   "metadata": {},
   "source": [
    "- $S=Z^{1/2}=\\sqrt{Z}$.\n",
    "\n",
    "\\begin{align}\n",
    "S^2 =\n",
    "\\begin{bmatrix}\n",
    "1 & 0 \\\\ 0 & i\n",
    "\\end{bmatrix}\n",
    "\\begin{bmatrix}\n",
    "1 & 0 \\\\ 0 & i\n",
    "\\end{bmatrix}\n",
    "=\n",
    "\\begin{bmatrix} \n",
    "1 & 0 \\\\ 0 & -1\n",
    "\\end{bmatrix}\n",
    "=Z \\implies Z^{1/2} = S.\n",
    "\\end{align}"
   ]
  },
  {
   "cell_type": "markdown",
   "metadata": {},
   "source": [
    "- $S^{\\dagger}=P(\\lambda = -\\pi/2)$.\n",
    "\n",
    "$$S^{\\dagger}=P(\\lambda = -\\pi/2).$$"
   ]
  },
  {
   "cell_type": "markdown",
   "metadata": {},
   "source": [
    "- $T=S^{1/2}=\\sqrt{S} = Z^{1/4}$.\n",
    "\n",
    "\n",
    "\\begin{align}\n",
    "T^2 =\n",
    "\\begin{bmatrix}\n",
    "1 & 0 \\\\ 0 & e^{i\\pi/4}\n",
    "\\end{bmatrix}\n",
    "\\begin{bmatrix}\n",
    "1 & 0 \\\\ 0 & e^{i\\pi/4}\n",
    "\\end{bmatrix}\n",
    "=\n",
    "\\begin{bmatrix} \n",
    "1 & 0 \\\\ 0 & e^{i\\pi/2}\n",
    "\\end{bmatrix}\n",
    "=\n",
    "\\begin{bmatrix} \n",
    "1 & 0 \\\\ 0 & i\n",
    "\\end{bmatrix}\n",
    "=S \\implies S^{1/2} = T.\n",
    "\\end{align}"
   ]
  },
  {
   "cell_type": "markdown",
   "metadata": {},
   "source": [
    "- $T^{\\dagger}=P(\\lambda = -\\pi/4).$"
   ]
  },
  {
   "cell_type": "markdown",
   "metadata": {
    "id": "d1aMtj49IaLr",
    "jp-MarkdownHeadingCollapsed": true
   },
   "source": [
    "# 6. Conjugation by Unitary"
   ]
  },
  {
   "cell_type": "markdown",
   "metadata": {
    "id": "3PXUJkiDOklt"
   },
   "source": [
    "Consider a Unitary matrix $U$, and a matrix $P$. The conjugation by a Unitary matrix is defined as:\n",
    "\n",
    "$$UPU^{\\dagger}.$$ \n",
    "\n",
    "This transformation modifies the eigenstates of the $P$ matrix while leaving its eigenvalues unchanged.\n",
    "\n",
    "This transformation is also useful to map an element $P$ of the Pauli group $P_n$ to another element of the Pauli group. It is also used to represent some of the conjugation by Cliffords in terms of tensor products of Paulis given the fact that Pauli gates share the same set of eigenvalues."
   ]
  },
  {
   "cell_type": "markdown",
   "metadata": {
    "id": "Gh1KX1tmNw31",
    "jp-MarkdownHeadingCollapsed": true
   },
   "source": [
    "- $UR_x(\\theta)U^{\\dagger} = e^{\\frac{\\theta}{2}UXU^{\\dagger}}$\n",
    "\n",
    "## Conjugation by Clifford\n",
    "\n",
    "Definitions: $V = \\sqrt(X)$, $P=\\sqrt(Z)$, and $T=\\sqrt(P)$.\n",
    "\n",
    "- $P = HVH $\n",
    "- $V = HPH $\n",
    "- $SXS^† = Y$\n",
    "- $SYS^† = -X$\n",
    "- $SZS^† = Z$\n",
    "- $ZXZ = -X$\n",
    "- $XYX = -Y$\n",
    "- $XZX = -Z$\n",
    "- $X R_y(\\theta) X = R_y(-\\theta)$ (Appears in ex. 4.7, Pg. 175 of Ref. [1])\n",
    "- $X R_z(\\theta) X = R_z(-\\alpha)$\n",
    "- $HXH=Z$\n",
    "- $HYH=-Y$\n",
    "- $HZH=X$\n",
    "- $HTH=R_x(\\pi/4)$\n",
    "- $(H\\otimes H) CNOT_{(0,1)}(H\\otimes H) = CNOT_{(1,0)}$ \n",
    "- $CZ(X \\otimes I)CZ^{\\dagger} = X \\otimes Z$\n",
    "- $(I_2 \\otimes S)e^{i\\frac{\\theta}{2} (X\\otimes X)}(I_2 \\otimes S^{\\dagger})=e^{i\\frac{\\theta}{2} (X\\otimes Y)}$ \n",
    "- $CNOT_{(j,k)}(X\\otimes I_2) CNOT_{(j,k)} = X \\otimes X$ \n",
    "- $CNOT_{(j,k)} (R_{\\hat{n}}(\\theta)\\otimes I_2)CNOT_{(j,k)}=e^{i\\frac{\\theta}{2}((\\vec{\\sigma} \\cdot \\hat{n})\\otimes (\\vec{\\sigma}\\cdot \\hat{n}))}$\n",
    "- $CNOT_{(1,2)} X_1 CNOT_{(1,2)}^† = X_1 \\otimes X_2$\n",
    "- $CNOT_{(1,2)} X_2 CNOT_{(1,2)}^† = X_2$\n",
    "- $CNOT_{(1,2)} Z_1 CNOT_{(1,2)}^† = Z_1$\n",
    "- $CNOT_{(1,2)} Z_2 CNOT_{(1,2)}^† = Z_1 \\otimes Z_2$\n",
    "\n",
    "See pg. 460 of [1].\n",
    "\n",
    "## Conjugation by non-Clifford\n",
    "\n",
    "- From pg. 462 of [1]:\n",
    "\n",
    "- $TZT^† = Z$\n",
    "- $TXT^† = \\frac{(X+Y)}{\\sqrt(2)}$"
   ]
  },
  {
   "cell_type": "markdown",
   "metadata": {
    "id": "9zydXzezNyOz",
    "jp-MarkdownHeadingCollapsed": true
   },
   "source": [
    "## 6.1 Proofs"
   ]
  },
  {
   "cell_type": "markdown",
   "metadata": {},
   "source": [
    "- Notation: $\\sigma_1=X, \\sigma_2=Y, \\sigma_3=Z$.\n",
    "  \n",
    "Recall that a tensor product of unitary matrices yields another unitary matrix. See the [0_algebraic_identities.ipynb](https://github.com/QuCAI-Lab/quantum-circuit-theory/blob/dev/notebooks/algebraic_identities.ipynb) notebook for the proof."
   ]
  },
  {
   "cell_type": "markdown",
   "metadata": {
    "jp-MarkdownHeadingCollapsed": true
   },
   "source": [
    "### $SXS^† = Y$"
   ]
  },
  {
   "cell_type": "code",
   "execution_count": null,
   "metadata": {},
   "outputs": [],
   "source": []
  },
  {
   "cell_type": "markdown",
   "metadata": {
    "jp-MarkdownHeadingCollapsed": true
   },
   "source": [
    "### $SYS^† = -X$"
   ]
  },
  {
   "cell_type": "code",
   "execution_count": null,
   "metadata": {},
   "outputs": [],
   "source": []
  },
  {
   "cell_type": "markdown",
   "metadata": {
    "jp-MarkdownHeadingCollapsed": true
   },
   "source": [
    "### $SZS^† = Z$"
   ]
  },
  {
   "cell_type": "code",
   "execution_count": null,
   "metadata": {},
   "outputs": [],
   "source": []
  },
  {
   "cell_type": "markdown",
   "metadata": {
    "id": "YYNG0dA2aUB2",
    "jp-MarkdownHeadingCollapsed": true
   },
   "source": [
    "### $ZYZ = -Y$."
   ]
  },
  {
   "cell_type": "markdown",
   "metadata": {
    "id": "3sncGUv6rvq6"
   },
   "source": [
    "- **Matrix approach:**"
   ]
  },
  {
   "cell_type": "markdown",
   "metadata": {
    "id": "K155xjUEqPFR"
   },
   "source": [
    "\\begin{equation}\n",
    "\\begin{pmatrix}\n",
    "1 & 0 \\\\\n",
    "0 & -1\n",
    "\\end{pmatrix}\n",
    "\\cdot \n",
    "\\begin{pmatrix}\n",
    "0 & -i \\\\\n",
    "i & 0\n",
    "\\end{pmatrix}\n",
    "\\cdot \n",
    "\\begin{pmatrix}\n",
    "1 & 0 \\\\\n",
    "0 & -1\n",
    "\\end{pmatrix}\n",
    "=\n",
    "\\begin{pmatrix}\n",
    "1 & 0 \\\\\n",
    "0 & -1\n",
    "\\end{pmatrix}\n",
    "\\cdot \n",
    "\\begin{pmatrix}\n",
    "0 & i \\\\\n",
    "i & 0\n",
    "\\end{pmatrix}\n",
    "=\n",
    "\\begin{pmatrix}\n",
    "0 & i \\\\\n",
    "-i & 0\n",
    "\\end{pmatrix}\n",
    "= -Y.\n",
    "\\end{equation}"
   ]
  },
  {
   "cell_type": "code",
   "execution_count": null,
   "metadata": {
    "colab": {
     "base_uri": "https://localhost:8080/"
    },
    "executionInfo": {
     "elapsed": 3,
     "status": "ok",
     "timestamp": 1683655055939,
     "user": {
      "displayName": "Lucas Camponogara Viera",
      "userId": "13421704742725721901"
     },
     "user_tz": 180
    },
    "id": "PUM5nu_jqPkG",
    "outputId": "2b53e8c2-bbc8-4660-ac24-a3bb30bbff56"
   },
   "outputs": [
    {
     "data": {
      "text/plain": [
       "True"
      ]
     },
     "execution_count": 56,
     "metadata": {},
     "output_type": "execute_result"
    }
   ],
   "source": [
    "(sigma3@sigma2@sigma3 == -sigma2).all()"
   ]
  },
  {
   "cell_type": "markdown",
   "metadata": {
    "id": "oda4ZomprziE"
   },
   "source": [
    "- **Algebraic approach:**"
   ]
  },
  {
   "cell_type": "markdown",
   "metadata": {
    "id": "70P2WcGnr0Fk"
   },
   "source": [
    "Using the Pauli algebra\n",
    "\n",
    "$$\\sigma_j \\sigma_k = \\delta_{jk} \\mathbb{I} + i\\epsilon_{jkl} \\sigma_l,$$\n",
    "\n",
    "one has \n",
    "\n",
    "$$YZ=\\sigma_2\\sigma_3 = \\delta_{23}\\mathbb{I}+i\\epsilon_{231}\\sigma_1 = 0\\cdot\\mathbb{I}+i\\cdot \\sigma_1 = i\\sigma_1 = iX.$$\n",
    "\n",
    "Then\n",
    "\n",
    "$$ZYZ=Z(iX)=iZX.$$\n",
    "\n",
    "Applying Pauli identity again, one finally gets\n",
    "\n",
    "$$iZX = i\\sigma_3\\sigma_1 = i(\\delta_{31}\\mathbb{I}+i\\epsilon_{312}\\sigma_2) = i(0+i\\sigma_2) = -\\sigma_2 = -Y.$$"
   ]
  },
  {
   "cell_type": "markdown",
   "metadata": {
    "id": "297VTvNJ_HKD",
    "jp-MarkdownHeadingCollapsed": true
   },
   "source": [
    "### $ZXZ = -X$"
   ]
  },
  {
   "cell_type": "markdown",
   "metadata": {
    "id": "s5A4hV5dcDnE"
   },
   "source": [
    "- **Matrix approach:**"
   ]
  },
  {
   "cell_type": "markdown",
   "metadata": {
    "id": "-vBmNGTq_LXK"
   },
   "source": [
    "\\begin{equation}\n",
    "\\begin{pmatrix}\n",
    "1 & 0 \\\\\n",
    "0 & -1\n",
    "\\end{pmatrix} \n",
    "\\cdot \n",
    "\\begin{pmatrix}\n",
    "0 & 1 \\\\\n",
    "1 & 0\n",
    "\\end{pmatrix}\n",
    "\\cdot \n",
    "\\begin{pmatrix}\n",
    "1 & 0 \\\\\n",
    "0 & -1\n",
    "\\end{pmatrix} \n",
    "=\n",
    "\\begin{pmatrix}\n",
    "1 & 0 \\\\\n",
    "0 & -1\n",
    "\\end{pmatrix} \n",
    "\\cdot\n",
    "\\begin{pmatrix}\n",
    "0 & -1 \\\\\n",
    "1 & 0\n",
    "\\end{pmatrix} \n",
    "=\n",
    "\\begin{pmatrix}\n",
    "0 & -1 \\\\\n",
    "-1 & 0\n",
    "\\end{pmatrix}\n",
    "= -X.\n",
    "\\end{equation}"
   ]
  },
  {
   "cell_type": "code",
   "execution_count": 23,
   "metadata": {
    "colab": {
     "base_uri": "https://localhost:8080/"
    },
    "executionInfo": {
     "elapsed": 310,
     "status": "ok",
     "timestamp": 1683648495604,
     "user": {
      "displayName": "Lucas Camponogara Viera",
      "userId": "13421704742725721901"
     },
     "user_tz": 180
    },
    "id": "zbIH8Pm2Bp68",
    "outputId": "36b9aa3d-704e-4bd2-825f-95e12b605ce8"
   },
   "outputs": [
    {
     "data": {
      "text/plain": [
       "True"
      ]
     },
     "execution_count": 23,
     "metadata": {},
     "output_type": "execute_result"
    }
   ],
   "source": [
    "(sigma3@sigma1@sigma3 == -sigma1).all()"
   ]
  },
  {
   "cell_type": "markdown",
   "metadata": {
    "id": "sKxA1Hixb7Cm"
   },
   "source": [
    "- **Algebraic approach:**"
   ]
  },
  {
   "cell_type": "markdown",
   "metadata": {
    "id": "-C5IPJ5sb9Is"
   },
   "source": [
    "Using the Pauli algebra\n",
    "\n",
    "$$\\sigma_j \\sigma_k = \\delta_{jk} \\mathbb{I} + i\\epsilon_{jkl} \\sigma_l,$$\n",
    "\n",
    "one has \n",
    "\n",
    "$$XZ=\\sigma_1\\sigma_3 = \\delta_{13}\\mathbb{I}+i\\epsilon_{132}\\sigma_2 = 0\\cdot\\mathbb{I}-i\\cdot \\sigma_2 = -i\\sigma_2 = -iY.$$\n",
    "\n",
    "Then\n",
    "\n",
    "$$ZXZ=Z(-iY)=-iZY.$$\n",
    "\n",
    "Applying it again, one finally gets\n",
    "\n",
    "$$-iZY = -i\\sigma_3\\sigma_2 = -i(\\delta_{32}\\mathbb{I}+i\\epsilon_{321}\\sigma_1) = -i(0-i\\sigma_1) = -\\sigma_1 = -X.$$"
   ]
  },
  {
   "cell_type": "markdown",
   "metadata": {
    "id": "6ieFngPwGSR7"
   },
   "source": [
    "$ZX=iY=-XZ$ (Anti-commutation)."
   ]
  },
  {
   "cell_type": "markdown",
   "metadata": {
    "id": "t5Zl9CZV_rlk",
    "jp-MarkdownHeadingCollapsed": true
   },
   "source": [
    "### $XYX = -Y$"
   ]
  },
  {
   "cell_type": "markdown",
   "metadata": {
    "id": "jNa9lWIjXRAt"
   },
   "source": [
    "- **Matrix approach:**"
   ]
  },
  {
   "cell_type": "markdown",
   "metadata": {
    "id": "cPaRh03k_sU4"
   },
   "source": [
    "\\begin{equation}\n",
    "\\begin{pmatrix}\n",
    "0 & 1 \\\\\n",
    "1 & 0\n",
    "\\end{pmatrix}\n",
    "\\cdot \n",
    "\\begin{pmatrix}\n",
    "0 & -i \\\\\n",
    "i & 0\n",
    "\\end{pmatrix}\n",
    "\\cdot \n",
    "\\begin{pmatrix}\n",
    "0 & 1 \\\\\n",
    "1 & 0\n",
    "\\end{pmatrix}\n",
    "=\n",
    "\\begin{pmatrix}\n",
    "0 & 1 \\\\\n",
    "1 & 0\n",
    "\\end{pmatrix}\n",
    "\\cdot \n",
    "\\begin{pmatrix}\n",
    "-i & 0 \\\\\n",
    "0 & i\n",
    "\\end{pmatrix}\n",
    "=\n",
    "\\begin{pmatrix}\n",
    "0 & i \\\\\n",
    "-i & 0\n",
    "\\end{pmatrix}\n",
    "= -Y.\n",
    "\\end{equation}"
   ]
  },
  {
   "cell_type": "code",
   "execution_count": 24,
   "metadata": {
    "colab": {
     "base_uri": "https://localhost:8080/"
    },
    "executionInfo": {
     "elapsed": 6,
     "status": "ok",
     "timestamp": 1683644911641,
     "user": {
      "displayName": "Lucas Camponogara Viera",
      "userId": "13421704742725721901"
     },
     "user_tz": 180
    },
    "id": "X6N6ieztBpMR",
    "outputId": "ebcd44cc-7496-4329-ad2d-bc597a79e68b"
   },
   "outputs": [
    {
     "data": {
      "text/plain": [
       "True"
      ]
     },
     "execution_count": 24,
     "metadata": {},
     "output_type": "execute_result"
    }
   ],
   "source": [
    "(sigma1@sigma2@sigma1 == -sigma2).all()"
   ]
  },
  {
   "cell_type": "markdown",
   "metadata": {
    "id": "apVJ0310XTbh"
   },
   "source": [
    "- **Algebraic approach:**"
   ]
  },
  {
   "cell_type": "markdown",
   "metadata": {
    "id": "AUeSO-0ATbyB"
   },
   "source": [
    "Using the Pauli algebra\n",
    "\n",
    "$$\\sigma_j \\sigma_k = \\delta_{jk} \\mathbb{I} + i\\epsilon_{jkl} \\sigma_l,$$\n",
    "\n",
    "one has \n",
    "\n",
    "$$YX=\\sigma_2\\sigma_1 = \\delta_{21}\\mathbb{I}+i\\epsilon_{213}\\sigma_3 = 0\\cdot\\mathbb{I}-i\\cdot \\sigma_3 = -i\\sigma_3 = -iZ.$$\n",
    "\n",
    "Then\n",
    "\n",
    "$$XYZ=X(-iZ)=-iXZ.$$\n",
    "\n",
    "Applying it again, one finally gets\n",
    "\n",
    "$$-iXZ = -i\\sigma_1\\sigma_3 = -i(\\delta_{13}\\mathbb{I}+i\\epsilon_{132}\\sigma_2) = -i(0-i\\sigma_2) = -\\sigma_2 = -Y.$$"
   ]
  },
  {
   "cell_type": "markdown",
   "metadata": {
    "id": "1yb8zrBBhx0e",
    "jp-MarkdownHeadingCollapsed": true
   },
   "source": [
    "### $XZX = -Z$"
   ]
  },
  {
   "cell_type": "markdown",
   "metadata": {
    "id": "vcseRJZKh0ph"
   },
   "source": [
    "- **Matrix approach:**"
   ]
  },
  {
   "cell_type": "markdown",
   "metadata": {
    "id": "j8DtRSzViWPf"
   },
   "source": [
    "\\begin{equation}\n",
    "\\begin{pmatrix}\n",
    "0 & 1 \\\\\n",
    "1 & 0\n",
    "\\end{pmatrix}\n",
    "\\cdot \n",
    "\\begin{pmatrix}\n",
    "1 & 0 \\\\\n",
    "0 & -1\n",
    "\\end{pmatrix}\n",
    "\\cdot \n",
    "\\begin{pmatrix}\n",
    "0 & 1 \\\\\n",
    "1 & 0\n",
    "\\end{pmatrix}\n",
    "=\n",
    "\\begin{pmatrix}\n",
    "0 & 1 \\\\\n",
    "1 & 0\n",
    "\\end{pmatrix}\n",
    "\\cdot \n",
    "\\begin{pmatrix}\n",
    "0 & 1 \\\\\n",
    "-1 & 0\n",
    "\\end{pmatrix}\n",
    "=\n",
    "\\begin{pmatrix}\n",
    "-1 & 0 \\\\\n",
    "0 & 1\n",
    "\\end{pmatrix}\n",
    "= -Z.\n",
    "\\end{equation}"
   ]
  },
  {
   "cell_type": "code",
   "execution_count": 25,
   "metadata": {
    "colab": {
     "base_uri": "https://localhost:8080/"
    },
    "executionInfo": {
     "elapsed": 3,
     "status": "ok",
     "timestamp": 1683652947235,
     "user": {
      "displayName": "Lucas Camponogara Viera",
      "userId": "13421704742725721901"
     },
     "user_tz": 180
    },
    "id": "oy0s_rXmh2-k",
    "outputId": "16d3bb1e-365a-473b-a94b-88fa33aa1ba5"
   },
   "outputs": [
    {
     "data": {
      "text/plain": [
       "True"
      ]
     },
     "execution_count": 25,
     "metadata": {},
     "output_type": "execute_result"
    }
   ],
   "source": [
    "(sigma1@sigma3@sigma1 == -sigma3).all()"
   ]
  },
  {
   "cell_type": "markdown",
   "metadata": {
    "id": "Nd4_UQHJjaBo"
   },
   "source": [
    "- **Algebraic approach:**"
   ]
  },
  {
   "cell_type": "markdown",
   "metadata": {
    "id": "n1Org03LjVY0"
   },
   "source": [
    "Using the Pauli algebra\n",
    "\n",
    "$$\\sigma_j \\sigma_k = \\delta_{jk} \\mathbb{I} + i\\epsilon_{jkl} \\sigma_l,$$\n",
    "\n",
    "it follows the same thought process as the previous solutions."
   ]
  },
  {
   "cell_type": "markdown",
   "metadata": {
    "jp-MarkdownHeadingCollapsed": true
   },
   "source": [
    "### $X R_y(\\theta) X = R_y(-\\theta)$"
   ]
  },
  {
   "cell_type": "code",
   "execution_count": null,
   "metadata": {},
   "outputs": [],
   "source": []
  },
  {
   "cell_type": "markdown",
   "metadata": {
    "jp-MarkdownHeadingCollapsed": true
   },
   "source": [
    "### $X R_z(\\theta) X = R_z(-\\alpha)$"
   ]
  },
  {
   "cell_type": "code",
   "execution_count": null,
   "metadata": {},
   "outputs": [],
   "source": []
  },
  {
   "cell_type": "markdown",
   "metadata": {
    "id": "YW3sITcLxaOU",
    "jp-MarkdownHeadingCollapsed": true
   },
   "source": [
    "### $HXH=Z$"
   ]
  },
  {
   "cell_type": "markdown",
   "metadata": {
    "id": "4xjy52WDyhT7"
   },
   "source": [
    "- $H=\\frac{1}{\\sqrt{2}}(X+Z)$.\n",
    "- $\\sigma_j^2 = -i\\sigma_1\\sigma_2\\sigma_3=\\mathbb{I}$ (Involutory square matrices).\n",
    "- $ZXZ=-X$.\n",
    "\n",
    "$$HXH=\\Big(\\frac{1}{\\sqrt{2}}\\Big)^2(X+Z)X(X+Z)=\\frac{1}{2}(X+Z)(XX+XZ)=\\frac{1}{2}(X+Z)(\\mathbb{I}+XZ).$$\n",
    "\n",
    "Using algebraic identity \n",
    "\n",
    "$$(A+B)(C+D) = AC+AD+BC+BD,$$ \n",
    "\n",
    "one then has\n",
    "\n",
    "$$HXH = \\frac{1}{2}(X+X^2Z+Z+ZXZ) = \\frac{1}{2}(X+Z+Z+ZXZ) = \\frac{1}{2}(X+2Z+ZXZ)=\\frac{1}{2}(X+2Z-X)=Z.$$"
   ]
  },
  {
   "cell_type": "code",
   "execution_count": 26,
   "metadata": {
    "colab": {
     "base_uri": "https://localhost:8080/"
    },
    "executionInfo": {
     "elapsed": 3,
     "status": "ok",
     "timestamp": 1683648582386,
     "user": {
      "displayName": "Lucas Camponogara Viera",
      "userId": "13421704742725721901"
     },
     "user_tz": 180
    },
    "id": "xLwvT2hWRR1T",
    "outputId": "63b5524c-d80e-4db9-fb78-cee3b07e99ef"
   },
   "outputs": [
    {
     "data": {
      "text/plain": [
       "True"
      ]
     },
     "execution_count": 26,
     "metadata": {},
     "output_type": "execute_result"
    }
   ],
   "source": [
    "((had@sigma1@had).round() == sigma3).all()"
   ]
  },
  {
   "cell_type": "markdown",
   "metadata": {
    "id": "qsEKd4mFyWw5",
    "jp-MarkdownHeadingCollapsed": true
   },
   "source": [
    "### $HYH=-Y$"
   ]
  },
  {
   "cell_type": "markdown",
   "metadata": {
    "id": "BOi5OdyRiCfs"
   },
   "source": [
    "- $H=\\frac{1}{\\sqrt{2}}(X+Z)$.\n",
    "- $\\sigma_j^2 = -i\\sigma_1\\sigma_2\\sigma_3=\\mathbb{I}$ (Involutory square matrices).\n",
    "\n",
    "$$HYH=\\Big(\\frac{1}{\\sqrt{2}}\\Big)^2(X+Z)Y(X+Z)=\\frac{1}{2}(X+Z)(YX+YZ).$$\n",
    "\n",
    "Using algebraic identity \n",
    "\n",
    "$$(A+B)(C+D) = AC+AD+BC+BD,$$ \n",
    "\n",
    "one then has\n",
    "\n",
    "$$\\frac{1}{2}(XYX+XYZ+ZYX+ZYZ).$$\n",
    "\n",
    "Using the results \n",
    "\n",
    "\\begin{eqnarray}\n",
    "XYX = ZYZ &=& -Y \\\\\n",
    "XYZ &=& i\\mathbb{I} \\\\\n",
    "ZYX &=& -i\\mathbb{I}, \\\\\n",
    "\\end{eqnarray}\n",
    "\n",
    "one finally gets\n",
    "\n",
    "$$HYH = \\frac{1}{2}(-Y+i\\mathbb{I}-i\\mathbb{I}-Y) =-Y.$$"
   ]
  },
  {
   "cell_type": "code",
   "execution_count": 27,
   "metadata": {
    "colab": {
     "base_uri": "https://localhost:8080/"
    },
    "executionInfo": {
     "elapsed": 414,
     "status": "ok",
     "timestamp": 1683656509673,
     "user": {
      "displayName": "Lucas Camponogara Viera",
      "userId": "13421704742725721901"
     },
     "user_tz": 180
    },
    "id": "P8VckYBDtR-L",
    "outputId": "c7541186-6dc6-44a1-b575-824ad2bb50cf"
   },
   "outputs": [
    {
     "data": {
      "text/plain": [
       "True"
      ]
     },
     "execution_count": 27,
     "metadata": {},
     "output_type": "execute_result"
    }
   ],
   "source": [
    "((had@sigma2@had).round() == -sigma2).all()"
   ]
  },
  {
   "cell_type": "markdown",
   "metadata": {
    "id": "RYWzQFntyWzv",
    "jp-MarkdownHeadingCollapsed": true
   },
   "source": [
    "### $HZH=X$"
   ]
  },
  {
   "cell_type": "markdown",
   "metadata": {
    "id": "RAXh5nOGyjAQ"
   },
   "source": [
    "- $H=\\frac{1}{\\sqrt{2}}(X+Z)$.\n",
    "- $\\sigma_j^2 = -i\\sigma_1\\sigma_2\\sigma_3=\\mathbb{I}$ (Involutory square matrices).\n",
    "- $XZX=-Z$.\n",
    "\n",
    "$$HZH=\\Big(\\frac{1}{\\sqrt{2}}\\Big)^2(X+Z)Z(X+Z)=\\frac{1}{2}(X+Z)(ZX+ZZ)=\\frac{1}{2}(X+Z)(ZX+\\mathbb{I}).$$\n",
    "\n",
    "Using algebraic identity \n",
    "\n",
    "$$(A+B)(C+D) = AC+AD+BC+BD,$$ \n",
    "\n",
    "one then has\n",
    "\n",
    "$$HZH = \\frac{1}{2}(XZX+X+Z^2X+Z).$$\n",
    "\n",
    "And since $Z^2=\\mathbb{I}$ and $XZX=-Z$, one finally gets\n",
    "\n",
    "$$HZH=\\frac{1}{2}(-Z+2X+Z) = X.$$"
   ]
  },
  {
   "cell_type": "code",
   "execution_count": 28,
   "metadata": {
    "colab": {
     "base_uri": "https://localhost:8080/"
    },
    "executionInfo": {
     "elapsed": 351,
     "status": "ok",
     "timestamp": 1683655868814,
     "user": {
      "displayName": "Lucas Camponogara Viera",
      "userId": "13421704742725721901"
     },
     "user_tz": 180
    },
    "id": "IvGveSp5tYXK",
    "outputId": "3e085b57-824b-460d-e1fa-134173aec773"
   },
   "outputs": [
    {
     "data": {
      "text/plain": [
       "True"
      ]
     },
     "execution_count": 28,
     "metadata": {},
     "output_type": "execute_result"
    }
   ],
   "source": [
    "((had@sigma3@had).round() == sigma1).all()"
   ]
  },
  {
   "cell_type": "markdown",
   "metadata": {
    "id": "dhSceh_Lyy_w",
    "jp-MarkdownHeadingCollapsed": true
   },
   "source": [
    "### $HTH=R_x(\\pi/4)$"
   ]
  },
  {
   "cell_type": "markdown",
   "metadata": {
    "id": "MfMxKfC245yc"
   },
   "source": [
    "Using the result (which was verified earlier) \n",
    "\n",
    "$$T=e^{i\\pi/8}R_z(\\pi/4) = P(\\lambda =\\pi/4),$$\n",
    "\n",
    "one writes\n",
    "\n",
    "$$HTH = e^{i\\pi/8} H R_z(\\pi/4) H.$$\n",
    "\n",
    "And using the result $ R_{\\hat{n}}(\\theta) = e^{-i\\frac{\\theta}{2} A}$ to write\n",
    "\n",
    "$$ R_z(\\pi/4) = e^{-i\\pi Z/8},$$\n",
    "\n",
    "one gets\n",
    "\n",
    "\\begin{eqnarray}\n",
    "HTH &=& e^{i\\pi/8} H e^{-i\\pi Z/8} H.\n",
    "\\end{eqnarray}\n",
    "\n",
    "From here, one uses the Taylor series expansion for the exponential function of a square matrix (see [0_algebraic_identities.ipynb](#)):\n",
    "\n",
    "\\begin{eqnarray}\n",
    "HTH &=& e^{i\\pi/8} H e^{-i\\pi Z/8} H \\\\\n",
    "&=& e^{i\\pi/8} H \\Big(\\sum_{n=0}^{\\infty}\\frac{(-i\\pi Z/8)^{n}}{n!}\\Big) H \\\\\n",
    "&=& e^{i\\pi/8} H \\Big(\\mathbb{I} - \\frac{i\\pi Z}{8}+\\frac{1}{2!}\\Big(\\frac{i\\pi Z}{8}\\Big)^2 + \\cdots\\Big) H \\\\\n",
    "&=& e^{i\\pi/8} \\Big(H\\mathbb{I}H - H\\frac{i\\pi Z}{8}H+H\\frac{1}{2!}\\Big(\\frac{i\\pi Z}{8}\\Big)^2H + \\cdots\\Big) \\\\\n",
    "&=& e^{i\\pi/8} \\Big(H^2 - \\frac{i\\pi}{8}HZH+\\frac{1}{2!}\\Big(\\frac{i\\pi}{8}\\Big)^2HZ^2H + \\cdots\\Big) \\\\\n",
    "&=& e^{i\\pi/8} \\Big(\\mathbb{I} - \\frac{i\\pi}{8}X+\\frac{1}{2!}\\Big(\\frac{i\\pi}{8}\\Big)^2 HZH HZH + \\cdots\\Big) \\\\\n",
    "&=& e^{i\\pi/8} \\Big(\\mathbb{I} - \\frac{i\\pi}{8}X+\\frac{1}{2!}\\Big(\\frac{i\\pi}{8}\\Big)^2 X^2 + \\cdots\\Big) \\\\\n",
    "&=&  e^{i\\pi/8}e^{-i\\pi X/8}\\\\\n",
    "&=&e^{i\\pi/8} R_x\\Big(\\frac{\\pi}{4}\\Big).\n",
    "\\end{eqnarray}"
   ]
  },
  {
   "cell_type": "markdown",
   "metadata": {
    "jp-MarkdownHeadingCollapsed": true
   },
   "source": [
    "### $(H\\otimes H) CNOT_{(0,1)}(H\\otimes H) = CNOT_{(1,0)}$ \n",
    "\n",
    "[Phase kickback](https://github.com/Qiskit/textbook/blob/main/notebooks/ch-gates/phase-kickback.ipynb)."
   ]
  },
  {
   "cell_type": "markdown",
   "metadata": {},
   "source": [
    "Recall the mixed product property $(A\\otimes B)(C\\otimes D) = AC\\otimes BD$.\n",
    "\n",
    "\\begin{align}\n",
    "(H\\otimes H) \\Big(\\mathbb{I} \\otimes |0\\rangle\\langle 0| + X \\otimes |1 \\rangle \\langle 1|\\Big) (H\\otimes H)\n",
    "&= (H\\otimes H) \\Big(\\mathbb{I} \\otimes |0\\rangle\\langle 0| \\Big) (H\\otimes H)  + (H\\otimes H) \\Big(X \\otimes |1 \\rangle \\langle 1|\\Big) (H\\otimes H) \\\\\n",
    "&= \\Big(H\\mathbb{I} \\otimes H|0\\rangle\\langle 0| \\Big) (H\\otimes H)  + \\Big(HX \\otimes H|1 \\rangle \\langle 1|\\Big) (H\\otimes H)\\\\\n",
    "&= \\Big(H\\mathbb{I}H \\otimes H|0\\rangle\\langle 0|H \\Big) + \\Big(HXH \\otimes H|1 \\rangle \\langle 1|H\\Big)\\\\\n",
    "&= \\Big(\\mathbb{I} \\otimes H|0\\rangle\\langle 0|H \\Big) + \\Big(Z \\otimes H|1 \\rangle \\langle 1|H\\Big).\n",
    "\\end{align}"
   ]
  },
  {
   "cell_type": "markdown",
   "metadata": {},
   "source": [
    "Computing the matrix products one can verify it is identical to the $CNOT_{10}$ gate:\n",
    "\n",
    "$$CX^{q_1q_0}=|0\\rangle\\langle 0|\\otimes \\mathbb{I} +|1\\rangle\\langle 1|\\otimes X.$$"
   ]
  },
  {
   "cell_type": "markdown",
   "metadata": {},
   "source": [
    "- **Verifying with NumPy:**"
   ]
  },
  {
   "cell_type": "code",
   "execution_count": 13,
   "metadata": {},
   "outputs": [
    {
     "data": {
      "text/plain": [
       "array([[1, 0, 0, 0],\n",
       "       [0, 1, 0, 0],\n",
       "       [0, 0, 0, 1],\n",
       "       [0, 0, 1, 0]], dtype=uint8)"
      ]
     },
     "execution_count": 13,
     "metadata": {},
     "output_type": "execute_result"
    }
   ],
   "source": [
    "# Left hand side:\n",
    "\n",
    "(np.kron(had,had)@cnot_01@np.kron(had,had)).round().astype(\"uint8\")"
   ]
  },
  {
   "cell_type": "code",
   "execution_count": 14,
   "metadata": {},
   "outputs": [
    {
     "data": {
      "text/plain": [
       "array([[1, 0, 0, 0],\n",
       "       [0, 1, 0, 0],\n",
       "       [0, 0, 0, 1],\n",
       "       [0, 0, 1, 0]], dtype=uint8)"
      ]
     },
     "execution_count": 14,
     "metadata": {},
     "output_type": "execute_result"
    }
   ],
   "source": [
    "# Right hand side:\n",
    "\n",
    "(np.kron(sigma0,had@outzero@had) + np.kron(sigma3,had@outone@had)).round().astype(\"uint8\")"
   ]
  },
  {
   "cell_type": "code",
   "execution_count": 15,
   "metadata": {},
   "outputs": [
    {
     "data": {
      "text/plain": [
       "array([[1., 0., 0., 0.],\n",
       "       [0., 1., 0., 0.],\n",
       "       [0., 0., 0., 1.],\n",
       "       [0., 0., 1., 0.]])"
      ]
     },
     "execution_count": 15,
     "metadata": {},
     "output_type": "execute_result"
    }
   ],
   "source": [
    "# CNOT_10: \n",
    "\n",
    "np.kron(outzero,sigma0)+np.kron(outone,sigma1)"
   ]
  },
  {
   "cell_type": "code",
   "execution_count": 16,
   "metadata": {},
   "outputs": [
    {
     "data": {
      "text/plain": [
       "True"
      ]
     },
     "execution_count": 16,
     "metadata": {},
     "output_type": "execute_result"
    }
   ],
   "source": [
    "# HXH = Z.\n",
    "\n",
    "((had@sigma1@had).round() == sigma3).all() "
   ]
  },
  {
   "cell_type": "markdown",
   "metadata": {},
   "source": [
    "- **Verifying with Qiskit:**"
   ]
  },
  {
   "cell_type": "code",
   "execution_count": 20,
   "metadata": {},
   "outputs": [
    {
     "data": {
      "image/png": "[encoded data removed]",
      "text/plain": [
       "<Figure size 389.338x200.667 with 1 Axes>"
      ]
     },
     "execution_count": 20,
     "metadata": {},
     "output_type": "execute_result"
    }
   ],
   "source": [
    "# Left hand side:\n",
    "\n",
    "qr = QuantumRegister(2) # Define the number of qubits in the quantum circuit.\n",
    "qc = QuantumCircuit(qr) # Create the circuit.\n",
    "qc.h(0),qc.h(1), qc.cnot(0,1), qc.h(0),qc.h(1)\n",
    "qc.draw(output='mpl')"
   ]
  },
  {
   "cell_type": "code",
   "execution_count": 21,
   "metadata": {},
   "outputs": [
    {
     "data": {
      "text/latex": [
       "$$\n",
       "\\text{Unitary Matrix = }\n",
       "\n",
       "\\begin{bmatrix}\n",
       "1 & 0 & 0 & 0  \\\\\n",
       " 0 & 1 & 0 & 0  \\\\\n",
       " 0 & 0 & 0 & 1  \\\\\n",
       " 0 & 0 & 1 & 0  \\\\\n",
       " \\end{bmatrix}\n",
       "$$"
      ],
      "text/plain": [
       "<IPython.core.display.Latex object>"
      ]
     },
     "execution_count": 21,
     "metadata": {},
     "output_type": "execute_result"
    }
   ],
   "source": [
    "backend = Aer.get_backend('unitary_simulator')\n",
    "job = execute(qc, backend, shots=4000)\n",
    "result = job.result()\n",
    "unitary = result.get_unitary(qc, 2)\n",
    "array_to_latex(unitary, prefix=\"\\\\text{Unitary Matrix = }\\n\")"
   ]
  },
  {
   "cell_type": "code",
   "execution_count": 22,
   "metadata": {},
   "outputs": [
    {
     "data": {
      "image/png": "[encoded data removed]",
      "text/plain": [
       "<Figure size 222.116x200.667 with 1 Axes>"
      ]
     },
     "execution_count": 22,
     "metadata": {},
     "output_type": "execute_result"
    }
   ],
   "source": [
    "# Right hand side:\n",
    "\n",
    "qr = QuantumRegister(2) # Define the number of qubits in the quantum circuit.\n",
    "qc = QuantumCircuit(qr) # Create the circuit.\n",
    "qc.cnot(1,0)\n",
    "qc.draw(output='mpl')  "
   ]
  },
  {
   "cell_type": "code",
   "execution_count": 23,
   "metadata": {},
   "outputs": [
    {
     "data": {
      "text/latex": [
       "$$\n",
       "\\text{Unitary Matrix = }\n",
       "\n",
       "\\begin{bmatrix}\n",
       "1 & 0 & 0 & 0  \\\\\n",
       " 0 & 1 & 0 & 0  \\\\\n",
       " 0 & 0 & 0 & 1  \\\\\n",
       " 0 & 0 & 1 & 0  \\\\\n",
       " \\end{bmatrix}\n",
       "$$"
      ],
      "text/plain": [
       "<IPython.core.display.Latex object>"
      ]
     },
     "execution_count": 23,
     "metadata": {},
     "output_type": "execute_result"
    }
   ],
   "source": [
    "backend = Aer.get_backend('unitary_simulator')\n",
    "job = execute(qc, backend, shots=4000)\n",
    "result = job.result()\n",
    "unitary = result.get_unitary(qc, 2)\n",
    "array_to_latex(unitary, prefix=\"\\\\text{Unitary Matrix = }\\n\")"
   ]
  },
  {
   "cell_type": "markdown",
   "metadata": {},
   "source": [
    "### $UR_x(\\theta)U^{\\dagger} = e^{i \\frac{\\theta}{2} UXU^{\\dagger}}$"
   ]
  },
  {
   "cell_type": "markdown",
   "metadata": {
    "jp-MarkdownHeadingCollapsed": true
   },
   "source": [
    "# References &nbsp; <a href=\"#\"><img valign=\"middle\" height=\"45px\" src=\"https://img.icons8.com/book\" width=\"45\" hspace=\"0px\" vspace=\"0px\"></a> \n"
   ]
  },
  {
   "cell_type": "markdown",
   "metadata": {
    "id": "ZBS0JRw4pqW2"
   },
   "source": [
    "\\[1] Nielsen MA, Chuang IL. 2010. Quantum Computation and Quantum Information. New York: [Cambridge Univ. Press.](https://doi.org/10.1017/CBO9780511976667) 10th Anniv. Ed. \n",
    "- Chapter 4.\n",
    "\n",
    "\\[2] Barenco, A., Bennett, C.H., Cleve, R., DiVincenzo, D.P., Margolus, N., Shor, P., Sleator, T., Smolin, J.A. and Weinfurter, H. (1995) Elementary gates for quantum computation. [Phys. Rev. A 52, 3457–3467](https://journals.aps.org/pra/abstract/10.1103/PhysRevA.52.3457).\n"
   ]
  }
 ],
 "metadata": {
  "colab": {
   "collapsed_sections": [
    "n245cAXyUlxD",
    "vubibmcLOQYh",
    "Rni0WeD-XrVQ",
    "23CaEmeg5isY",
    "vcSsuPn-bEv1",
    "mtovUzj4iB2P",
    "X6xAeSvWbEBx",
    "NQ7jex-O_kW_",
    "_eO57siH-nZo",
    "a8f39d7c-0407-4eaa-9b25-bec76cde9de9",
    "ks5dw2UcMdT7",
    "tEFvH073NUMP",
    "d1aMtj49IaLr",
    "9zydXzezNyOz",
    "zbpTkmm2qMNH",
    "297VTvNJ_HKD",
    "t5Zl9CZV_rlk",
    "1yb8zrBBhx0e",
    "YW3sITcLxaOU",
    "qsEKd4mFyWw5",
    "RYWzQFntyWzv",
    "dhSceh_Lyy_w",
    "kGSlkyddIdem"
   ],
   "provenance": []
  },
  "kernelspec": {
   "display_name": "Python 3 (ipykernel)",
   "language": "python",
   "name": "python3"
  },
  "language_info": {
   "codemirror_mode": {
    "name": "ipython",
    "version": 3
   },
   "file_extension": ".py",
   "mimetype": "text/x-python",
   "name": "python",
   "nbconvert_exporter": "python",
   "pygments_lexer": "ipython3",
   "version": "3.11.2"
  }
 },
 "nbformat": 4,
 "nbformat_minor": 4
}
