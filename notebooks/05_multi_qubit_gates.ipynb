{
 "cells": [
  {
   "cell_type": "markdown",
   "metadata": {
    "id": "CuSWcHwc0SVj"
   },
   "source": [
    "<!-- Badges: -->\n",
    "\n",
    "<!-- Title: -->\n",
    "<div align=\"center\">\n",
    "  <h1><b> Multi-qubit gates </b></h1>\n",
    "  <h2> Crash Course - Quantum Circuit Theory </h2>\n",
    "</div>\n",
    "<br>\n",
    "\n",
    "<b>Author:</b> <a target=\"_blank\" href=\"https://github.com/camponogaraviera\">Lucas Camponogara Viera</a>"
   ]
  },
  {
   "cell_type": "markdown",
   "metadata": {
    "id": "0U_0A5LcqCVY"
   },
   "source": [
    "<div align='center'>\n",
    "<table class=\"tfo-notebook-buttons\" align=\"head\">\n",
    "  <td>\n",
    "    <a target=\"_blank\" href=\"https://github.com/QuCAI-Lab/quantum-circuit-theory\"><img src=\"https://www.tensorflow.org/images/GitHub-Mark-32px.png\" /></a>\n",
    "  </td>\n",
    "</table>\n",
    "</div>"
   ]
  },
  {
   "cell_type": "markdown",
   "metadata": {
    "id": "UthOPbZYpreF"
   },
   "source": [
    "# $C_n^{j}(U_{2^m})$ gate with $n$ control qubits and $m$ target qubits"
   ]
  },
  {
   "cell_type": "markdown",
   "metadata": {
    "id": "YqLcyRhDpW4-"
   },
   "source": [
    "Let $U_{2^m}$ be a $2^m$ x $2^m$ unitary matrix and $I_{2^m}$ be a $2^m$ x $2^m$ identity matrix, then a generic multicontrolled gate with $n$ control qubits and $m$ target qubits can be written as:\n",
    "\n",
    "\\begin{equation}\n",
    "C_n^{j}(U_{2^m}) = \\sum_{i=0, i\\neq j}^{2^n-1}I_{2^m} \\otimes |i\\rangle\\langle i|+ U_{2^m} \\otimes |j\\rangle\\langle j|.\n",
    "\\end{equation}"
   ]
  },
  {
   "cell_type": "markdown",
   "metadata": {},
   "source": [
    "# Particular cases"
   ]
  },
  {
   "cell_type": "markdown",
   "metadata": {},
   "source": [
    "CNOT Gate:\n",
    "\n",
    "\\begin{align}\n",
    "CX \\equiv C_1(X_{2^1}) = \\sum_{i=0, i\\neq j}^{2^1-1}I_{2^1} \\otimes |i\\rangle\\langle i|+ X_{2^1} \\otimes |j\\rangle\\langle j| = I_2 \\otimes |0\\rangle\\langle 0\\rangle + X \\otimes |1 \\rangle \\langle 1|.\n",
    "\\end{align}"
   ]
  },
  {
   "cell_type": "markdown",
   "metadata": {},
   "source": [
    "In a similar fashion:\n",
    "\n",
    "$CRY  = CU3(\\theta, 0,0) \\equiv C_1(RY_{2^1}) = I_2 \\otimes |0\\rangle\\langle 0\\rangle + RY(\\theta) \\otimes |1 \\rangle \\langle 1|$."
   ]
  },
  {
   "cell_type": "markdown",
   "metadata": {},
   "source": [
    "Toffoli Gate:\n",
    "\n",
    "$$CCX \\equiv C_1(CX)_{2^2} = \\sum_{i=0, i\\neq j}^{2^1-1}I_{2^2} \\otimes |i\\rangle\\langle i|+ (CX)_{2^2} \\otimes |j\\rangle\\langle j| = I_2 \\otimes I_2 \\otimes |0\\rangle\\langle 0\\rangle + CX \\otimes |1 \\rangle \\langle 1|.$$"
   ]
  },
  {
   "cell_type": "markdown",
   "metadata": {},
   "source": [
    "In a similar fashion:\n",
    "\n",
    "$CCRY \\equiv C_1(CRY)_{2^2} = I_2 \\otimes I_2 \\otimes |0\\rangle\\langle 0\\rangle + CRY \\otimes |1 \\rangle \\langle 1|$.\n",
    "\n",
    "$CCCX \\equiv C_1(CCX)_{2^3} = I_2 \\otimes I_2 \\otimes I_2 \\otimes |0\\rangle\\langle 0\\rangle + CCX \\otimes |1 \\rangle \\langle 1|$.\n",
    "\n",
    "$CCCRY \\equiv C_1(CCRY)_{2^3} = I_2 \\otimes I_2 \\otimes I_2 \\otimes |0\\rangle\\langle 0\\rangle + CCRY \\otimes |1 \\rangle \\langle 1|$."
   ]
  }
 ],
 "metadata": {
  "colab": {
   "collapsed_sections": [
    "UthOPbZYpreF"
   ],
   "provenance": []
  },
  "kernelspec": {
   "display_name": "Python 3 (ipykernel)",
   "language": "python",
   "name": "python3"
  },
  "language_info": {
   "codemirror_mode": {
    "name": "ipython",
    "version": 3
   },
   "file_extension": ".py",
   "mimetype": "text/x-python",
   "name": "python",
   "nbconvert_exporter": "python",
   "pygments_lexer": "ipython3",
   "version": "3.11.2"
  }
 },
 "nbformat": 4,
 "nbformat_minor": 1
}
