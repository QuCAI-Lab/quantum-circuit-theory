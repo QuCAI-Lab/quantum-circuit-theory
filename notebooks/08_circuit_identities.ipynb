{
 "cells": [
  {
   "cell_type": "markdown",
   "metadata": {
    "id": "CuSWcHwc0SVj"
   },
   "source": [
    "<!-- Badges: -->\n",
    "\n",
    "<!-- Title: -->\n",
    "<div align=\"center\">\n",
    "  <h1><b> Circuit Identities </b></h1>\n",
    "  <h2> Crash Course - Quantum Circuit Theory </h2>\n",
    "</div>\n",
    "<br>\n",
    "\n",
    "<b>Author:</b> <a target=\"_blank\" href=\"https://github.com/camponogaraviera\">Lucas Camponogara Viera</a>"
   ]
  },
  {
   "cell_type": "markdown",
   "metadata": {
    "id": "0U_0A5LcqCVY"
   },
   "source": [
    "<div align='center'>\n",
    "<table class=\"tfo-notebook-buttons\" align=\"head\">\n",
    "  <td>\n",
    "    <a target=\"_blank\" href=\"https://github.com/QuCAI-Lab/quantum-circuit-theory\"><img src=\"https://www.tensorflow.org/images/GitHub-Mark-32px.png\" /></a>\n",
    "  </td>\n",
    "</table>\n",
    "</div>"
   ]
  },
  {
   "cell_type": "code",
   "execution_count": 1,
   "metadata": {},
   "outputs": [
    {
     "name": "stdout",
     "output_type": "stream",
     "text": [
      "Author: Lucas Camponogara Viera\n",
      "\n",
      "Github username: camponogaraviera\n",
      "\n",
      "Website: https://qucai-lab.github.io/\n",
      "\n",
      "Last updated: 2023-06-08\n",
      "\n",
      "Python implementation: CPython\n",
      "Python version       : 3.11.2\n",
      "IPython version      : 8.14.0\n",
      "\n",
      "Compiler    : GCC 11.2.0\n",
      "OS          : Linux\n",
      "Release     : 5.19.0-43-generic\n",
      "Machine     : x86_64\n",
      "Processor   : x86_64\n",
      "CPU cores   : 4\n",
      "Architecture: 64bit\n",
      "\n",
      "Git repo: https://github.com/QuCAI-Lab/quantum-circuit-theory.git\n",
      "\n",
      "Git branch: dev\n",
      "\n",
      "numpy     : 1.23.5\n",
      "pylatexenc: 2.10\n",
      "IPython   : 8.14.0\n",
      "matplotlib: 3.6.2\n",
      "sympy     : 1.11.1\n",
      "pennylane : 0.28.0\n",
      "watermark : 2.3.1\n",
      "scipy     : 1.9.3\n",
      "\n",
      "Watermark: 2.3.1\n",
      "\n",
      "{'commit_hash': 'f11276427',\n",
      " 'commit_source': 'installation',\n",
      " 'default_encoding': 'utf-8',\n",
      " 'ipython_path': '/home/lucas/anaconda3/envs/qct/lib/python3.11/site-packages/IPython',\n",
      " 'ipython_version': '8.14.0',\n",
      " 'os_name': 'posix',\n",
      " 'platform': 'Linux-5.19.0-43-generic-x86_64-with-glibc2.35',\n",
      " 'sys_executable': '/home/lucas/anaconda3/envs/qct/bin/python',\n",
      " 'sys_platform': 'linux',\n",
      " 'sys_version': '3.11.2 (main, Mar 27 2023, 23:42:44) [GCC 11.2.0]'}\n"
     ]
    }
   ],
   "source": [
    "%run 11_implementations.ipynb"
   ]
  },
  {
   "cell_type": "markdown",
   "metadata": {
    "id": "XM7E56eFzTDV"
   },
   "source": [
    "# Qiskit little-endian convention"
   ]
  },
  {
   "cell_type": "markdown",
   "metadata": {},
   "source": [
    "In little-endian convention, higher qubit indices are more significant, i.e, the last qubit (highest register index) is stored first. In qiskit, one reads a circuit in a bottom-up approach, in the sense that a statevector $|abc\\rangle$ has quantum registers 0, 1, 2 in states $|c\\rangle$, $|b\\rangle$, $|a\\rangle$, respectively. Example: the state $|100\\rangle$, in qiskit, corresponds to a quantum circuit with the first qubit in state $|0\\rangle$, the middle qubit in state $|0\\rangle$, and the last qubit in state $|1\\rangle$."
   ]
  },
  {
   "cell_type": "markdown",
   "metadata": {},
   "source": [
    "## Circuit example 1"
   ]
  },
  {
   "cell_type": "markdown",
   "metadata": {},
   "source": [
    "Consider the following circuit:"
   ]
  },
  {
   "cell_type": "code",
   "execution_count": 2,
   "metadata": {},
   "outputs": [
    {
     "name": "stdout",
     "output_type": "stream",
     "text": [
      "Statevector([0.+0.j, 1.+0.j, 0.+0.j, 0.+0.j],\n",
      "            dims=(2, 2)) \n",
      "\n"
     ]
    },
    {
     "data": {
      "image/png": "[encoded data removed]",
      "text/plain": [
       "<Figure size 221.712x200.667 with 1 Axes>"
      ]
     },
     "execution_count": 2,
     "metadata": {},
     "output_type": "execute_result"
    }
   ],
   "source": [
    "backend = Aer.get_backend('unitary_simulator')\n",
    "dec = 2                                # Number of decimals for the matrix elements.\n",
    "qr = QuantumRegister(2)                # Define the number of qubits in the quantum circuit.\n",
    "qc = QuantumCircuit(qr, name='circuit')\n",
    "qc.x(0)                                # Apply the Pauli-X gate on qubit 0.\n",
    "print(Statevector.from_instruction(qc), '\\n')\n",
    "job = execute(qc, backend, shots=4000)\n",
    "result = job.result()\n",
    "unitary = result.get_unitary(qc, dec)\n",
    "qc.draw(output='mpl')"
   ]
  },
  {
   "cell_type": "code",
   "execution_count": 3,
   "metadata": {},
   "outputs": [
    {
     "data": {
      "text/latex": [
       "$$\n",
       "\\text{Unitary Matrix = }\n",
       "\n",
       "\\begin{bmatrix}\n",
       "0 & 1 & 0 & 0  \\\\\n",
       " 1 & 0 & 0 & 0  \\\\\n",
       " 0 & 0 & 0 & 1  \\\\\n",
       " 0 & 0 & 1 & 0  \\\\\n",
       " \\end{bmatrix}\n",
       "$$"
      ],
      "text/plain": [
       "<IPython.core.display.Latex object>"
      ]
     },
     "execution_count": 3,
     "metadata": {},
     "output_type": "execute_result"
    }
   ],
   "source": [
    "array_to_latex(unitary, prefix=\"\\\\text{Unitary Matrix = }\\n\")"
   ]
  },
  {
   "cell_type": "markdown",
   "metadata": {},
   "source": [
    "In little-endian convention, the circuit above has the following unitary operator:\n",
    "\n",
    "$$\\hat{U} = \\mathbb{I} \\otimes X.$$\n",
    "\n",
    "Such that \n",
    "\n",
    "$$\\hat{U} |00\\rangle = (\\mathbb{I} \\otimes X) (|0\\rangle \\otimes |0\\rangle)=\\mathbb{I}|0\\rangle \\otimes  X |0\\rangle=|0\\rangle \\otimes |1\\rangle =|01\\rangle = [0,1,0,0].$$"
   ]
  },
  {
   "cell_type": "code",
   "execution_count": 4,
   "metadata": {},
   "outputs": [
    {
     "data": {
      "text/plain": [
       "array([[0., 1., 0., 0.],\n",
       "       [1., 0., 0., 0.],\n",
       "       [0., 0., 0., 1.],\n",
       "       [0., 0., 1., 0.]])"
      ]
     },
     "execution_count": 4,
     "metadata": {},
     "output_type": "execute_result"
    }
   ],
   "source": [
    "# Operator I⊗X:\n",
    "np.kron(sigma0, sigma1)"
   ]
  },
  {
   "cell_type": "code",
   "execution_count": 5,
   "metadata": {},
   "outputs": [
    {
     "data": {
      "text/plain": [
       "array([[0.],\n",
       "       [1.],\n",
       "       [0.],\n",
       "       [0.]])"
      ]
     },
     "execution_count": 5,
     "metadata": {},
     "output_type": "execute_result"
    }
   ],
   "source": [
    "np.kron(sigma0, sigma1)@np.kron(zero,zero).T #(I⊗X)|00>=|01>."
   ]
  },
  {
   "cell_type": "code",
   "execution_count": 6,
   "metadata": {},
   "outputs": [
    {
     "data": {
      "text/plain": [
       "array([[0],\n",
       "       [1],\n",
       "       [0],\n",
       "       [0]])"
      ]
     },
     "execution_count": 6,
     "metadata": {},
     "output_type": "execute_result"
    }
   ],
   "source": [
    "np.kron(zero,one).T #|01>."
   ]
  },
  {
   "cell_type": "markdown",
   "metadata": {},
   "source": [
    "## Circuit example 2"
   ]
  },
  {
   "cell_type": "markdown",
   "metadata": {},
   "source": [
    "Consider the following circuit:"
   ]
  },
  {
   "cell_type": "code",
   "execution_count": 7,
   "metadata": {},
   "outputs": [
    {
     "name": "stdout",
     "output_type": "stream",
     "text": [
      "Statevector([0.+0.j, 0.+0.j, 1.+0.j, 0.+0.j],\n",
      "            dims=(2, 2)) \n",
      "\n"
     ]
    },
    {
     "data": {
      "image/png": "[encoded data removed]",
      "text/plain": [
       "<Figure size 222.116x200.667 with 1 Axes>"
      ]
     },
     "execution_count": 7,
     "metadata": {},
     "output_type": "execute_result"
    }
   ],
   "source": [
    "backend = Aer.get_backend('unitary_simulator')\n",
    "dec = 2                                # Number of decimals for the matrix elements.\n",
    "qr = QuantumRegister(2)                # Define the number of qubits in the quantum circuit.\n",
    "qc = QuantumCircuit(qr, name='circuit')\n",
    "qc.x(1)                                # Apply the Pauli-X gate on qubit 1.\n",
    "print(Statevector.from_instruction(qc), '\\n')\n",
    "job = execute(qc, backend, shots=4000)\n",
    "result = job.result()\n",
    "unitary = result.get_unitary(qc, dec)\n",
    "qc.draw(output='mpl')"
   ]
  },
  {
   "cell_type": "code",
   "execution_count": 8,
   "metadata": {},
   "outputs": [
    {
     "data": {
      "text/latex": [
       "$$\n",
       "\\text{Unitary Matrix = }\n",
       "\n",
       "\\begin{bmatrix}\n",
       "0 & 0 & 1 & 0  \\\\\n",
       " 0 & 0 & 0 & 1  \\\\\n",
       " 1 & 0 & 0 & 0  \\\\\n",
       " 0 & 1 & 0 & 0  \\\\\n",
       " \\end{bmatrix}\n",
       "$$"
      ],
      "text/plain": [
       "<IPython.core.display.Latex object>"
      ]
     },
     "execution_count": 8,
     "metadata": {},
     "output_type": "execute_result"
    }
   ],
   "source": [
    "array_to_latex(unitary, prefix=\"\\\\text{Unitary Matrix = }\\n\")"
   ]
  },
  {
   "cell_type": "markdown",
   "metadata": {},
   "source": [
    "In little-endian convention, the circuit above has the following unitary operator:\n",
    "\n",
    "$$\\hat{U} = X \\otimes \\mathbb{I} .$$\n",
    "\n",
    "Such that \n",
    "\n",
    "$$\\hat{U} |00\\rangle = ( X \\otimes \\mathbb{I}) (|0\\rangle \\otimes |0\\rangle)= X|0\\rangle \\otimes  \\mathbb{I} |0\\rangle=|1\\rangle \\otimes |0\\rangle =|10\\rangle = [0,0,1,0].$$"
   ]
  },
  {
   "cell_type": "code",
   "execution_count": 9,
   "metadata": {},
   "outputs": [
    {
     "data": {
      "text/plain": [
       "array([[0., 0., 1., 0.],\n",
       "       [0., 0., 0., 1.],\n",
       "       [1., 0., 0., 0.],\n",
       "       [0., 1., 0., 0.]])"
      ]
     },
     "execution_count": 9,
     "metadata": {},
     "output_type": "execute_result"
    }
   ],
   "source": [
    "# Operator X⊗I:\n",
    "np.kron(sigma1, sigma0) "
   ]
  },
  {
   "cell_type": "markdown",
   "metadata": {},
   "source": [
    "np.kron(sigma1, sigma0)@np.kron(zero,zero).T #(X⊗I)|00>=|10>."
   ]
  },
  {
   "cell_type": "code",
   "execution_count": 10,
   "metadata": {},
   "outputs": [
    {
     "data": {
      "text/plain": [
       "array([[0],\n",
       "       [0],\n",
       "       [1],\n",
       "       [0]])"
      ]
     },
     "execution_count": 10,
     "metadata": {},
     "output_type": "execute_result"
    }
   ],
   "source": [
    "np.kron(one,zero).T #|10>."
   ]
  },
  {
   "cell_type": "markdown",
   "metadata": {},
   "source": [
    "# Circuits identities via conjugation by unitary"
   ]
  },
  {
   "cell_type": "markdown",
   "metadata": {},
   "source": [
    "Recall that a tensor product of unitary matrices yields another unitary matrix. See the [0_algebraic_identities.ipynb](#) notebook for the proof."
   ]
  },
  {
   "cell_type": "markdown",
   "metadata": {},
   "source": [
    "## $(H\\otimes H) CNOT_{(0,1)}(H\\otimes H) = CNOT_{(1,0)}$ \n",
    "\n",
    "[Phase kickback](https://learn.qiskit.org/course/ch-gates/phase-kickback)."
   ]
  },
  {
   "cell_type": "markdown",
   "metadata": {},
   "source": [
    "Recall the mixed product property $(A\\otimes B)(C\\otimes D) = AC\\otimes BD$.\n",
    "\n",
    "\\begin{align}\n",
    "(H\\otimes H) \\Big(\\mathbb{I} \\otimes |0\\rangle\\langle 0| + X \\otimes |1 \\rangle \\langle 1|\\Big) (H\\otimes H)\n",
    "&= (H\\otimes H) \\Big(\\mathbb{I} \\otimes |0\\rangle\\langle 0| \\Big) (H\\otimes H)  + (H\\otimes H) \\Big(X \\otimes |1 \\rangle \\langle 1|\\Big) (H\\otimes H) \\\\\n",
    "&= \\Big(H\\mathbb{I} \\otimes H|0\\rangle\\langle 0| \\Big) (H\\otimes H)  + \\Big(HX \\otimes H|1 \\rangle \\langle 1|\\Big) (H\\otimes H)\\\\\n",
    "&= \\Big(H\\mathbb{I}H \\otimes H|0\\rangle\\langle 0|H \\Big) + \\Big(HXH \\otimes H|1 \\rangle \\langle 1|H\\Big)\\\\\n",
    "&= \\Big(\\mathbb{I} \\otimes H|0\\rangle\\langle 0|H \\Big) + \\Big(Z \\otimes H|1 \\rangle \\langle 1|H\\Big).\n",
    "\\end{align}"
   ]
  },
  {
   "cell_type": "markdown",
   "metadata": {},
   "source": [
    "Computing the matrix products one can verify it is identical to the $CNOT_{10}$ gate:\n",
    "\n",
    "$$CX^{q_1q_0}=|0\\rangle\\langle 0|\\otimes \\mathbb{I} +|1\\rangle\\langle 1|\\otimes X.$$"
   ]
  },
  {
   "cell_type": "markdown",
   "metadata": {},
   "source": [
    "- **Verifying with NumPy:**"
   ]
  },
  {
   "cell_type": "code",
   "execution_count": 12,
   "metadata": {},
   "outputs": [
    {
     "data": {
      "text/plain": [
       "array([[1, 0, 0, 0],\n",
       "       [0, 1, 0, 0],\n",
       "       [0, 0, 0, 1],\n",
       "       [0, 0, 1, 0]], dtype=uint8)"
      ]
     },
     "execution_count": 12,
     "metadata": {},
     "output_type": "execute_result"
    }
   ],
   "source": [
    "# Left hand side:\n",
    "\n",
    "(np.kron(had,had)@cnot_01@np.kron(had,had)).round().astype(\"uint8\")"
   ]
  },
  {
   "cell_type": "code",
   "execution_count": 13,
   "metadata": {},
   "outputs": [
    {
     "data": {
      "text/plain": [
       "array([[1, 0, 0, 0],\n",
       "       [0, 1, 0, 0],\n",
       "       [0, 0, 0, 1],\n",
       "       [0, 0, 1, 0]], dtype=uint8)"
      ]
     },
     "execution_count": 13,
     "metadata": {},
     "output_type": "execute_result"
    }
   ],
   "source": [
    "# Right hand side:\n",
    "\n",
    "(np.kron(sigma0,had@outzero@had) + np.kron(sigma3,had@outone@had)).round().astype(\"uint8\")"
   ]
  },
  {
   "cell_type": "code",
   "execution_count": 14,
   "metadata": {},
   "outputs": [
    {
     "data": {
      "text/plain": [
       "array([[1., 0., 0., 0.],\n",
       "       [0., 1., 0., 0.],\n",
       "       [0., 0., 0., 1.],\n",
       "       [0., 0., 1., 0.]])"
      ]
     },
     "execution_count": 14,
     "metadata": {},
     "output_type": "execute_result"
    }
   ],
   "source": [
    "# CNOT_10: \n",
    "\n",
    "np.kron(outzero,sigma0)+np.kron(outone,sigma1)"
   ]
  },
  {
   "cell_type": "code",
   "execution_count": 15,
   "metadata": {},
   "outputs": [
    {
     "data": {
      "text/plain": [
       "True"
      ]
     },
     "execution_count": 15,
     "metadata": {},
     "output_type": "execute_result"
    }
   ],
   "source": [
    "# HXH = Z.\n",
    "\n",
    "((had@sigma1@had).round() == sigma3).all() "
   ]
  },
  {
   "cell_type": "markdown",
   "metadata": {},
   "source": [
    "- **Verifying with Qiskit:**"
   ]
  },
  {
   "cell_type": "code",
   "execution_count": 13,
   "metadata": {},
   "outputs": [
    {
     "data": {
      "image/png": "[encoded data removed]",
      "text/plain": [
       "<Figure size 389.338x200.667 with 1 Axes>"
      ]
     },
     "execution_count": 13,
     "metadata": {},
     "output_type": "execute_result"
    }
   ],
   "source": [
    "# Left hand side:\n",
    "\n",
    "qr = QuantumRegister(2) # Define the number of qubits in the quantum circuit.\n",
    "qc = QuantumCircuit(qr) # Create the circuit.\n",
    "qc.h(0),qc.h(1), qc.cnot(0,1), qc.h(0),qc.h(1)\n",
    "qc.draw(output='mpl')"
   ]
  },
  {
   "cell_type": "code",
   "execution_count": 14,
   "metadata": {},
   "outputs": [
    {
     "data": {
      "text/latex": [
       "$$\n",
       "\\text{Unitary Matrix = }\n",
       "\n",
       "\\begin{bmatrix}\n",
       "1 & 0 & 0 & 0  \\\\\n",
       " 0 & 1 & 0 & 0  \\\\\n",
       " 0 & 0 & 0 & 1  \\\\\n",
       " 0 & 0 & 1 & 0  \\\\\n",
       " \\end{bmatrix}\n",
       "$$"
      ],
      "text/plain": [
       "<IPython.core.display.Latex object>"
      ]
     },
     "execution_count": 14,
     "metadata": {},
     "output_type": "execute_result"
    }
   ],
   "source": [
    "backend = Aer.get_backend('unitary_simulator')\n",
    "job = execute(qc, backend, shots=4000)\n",
    "result = job.result()\n",
    "unitary = result.get_unitary(qc, 2)\n",
    "array_to_latex(unitary, prefix=\"\\\\text{Unitary Matrix = }\\n\")"
   ]
  },
  {
   "cell_type": "code",
   "execution_count": 15,
   "metadata": {},
   "outputs": [
    {
     "data": {
      "image/png": "[encoded data removed]",
      "text/plain": [
       "<Figure size 222.116x200.667 with 1 Axes>"
      ]
     },
     "execution_count": 15,
     "metadata": {},
     "output_type": "execute_result"
    }
   ],
   "source": [
    "# Right hand side:\n",
    "\n",
    "qr = QuantumRegister(2) # Define the number of qubits in the quantum circuit.\n",
    "qc = QuantumCircuit(qr) # Create the circuit.\n",
    "qc.cnot(1,0)\n",
    "qc.draw(output='mpl')  "
   ]
  },
  {
   "cell_type": "code",
   "execution_count": 16,
   "metadata": {},
   "outputs": [
    {
     "data": {
      "text/latex": [
       "$$\n",
       "\\text{Unitary Matrix = }\n",
       "\n",
       "\\begin{bmatrix}\n",
       "1 & 0 & 0 & 0  \\\\\n",
       " 0 & 1 & 0 & 0  \\\\\n",
       " 0 & 0 & 0 & 1  \\\\\n",
       " 0 & 0 & 1 & 0  \\\\\n",
       " \\end{bmatrix}\n",
       "$$"
      ],
      "text/plain": [
       "<IPython.core.display.Latex object>"
      ]
     },
     "execution_count": 16,
     "metadata": {},
     "output_type": "execute_result"
    }
   ],
   "source": [
    "backend = Aer.get_backend('unitary_simulator')\n",
    "job = execute(qc, backend, shots=4000)\n",
    "result = job.result()\n",
    "unitary = result.get_unitary(qc, 2)\n",
    "array_to_latex(unitary, prefix=\"\\\\text{Unitary Matrix = }\\n\")"
   ]
  },
  {
   "cell_type": "markdown",
   "metadata": {},
   "source": [
    "## $CZ(X \\otimes I)CZ^{\\dagger} = X \\otimes Z$"
   ]
  },
  {
   "cell_type": "code",
   "execution_count": null,
   "metadata": {},
   "outputs": [],
   "source": []
  },
  {
   "cell_type": "markdown",
   "metadata": {},
   "source": [
    "## $CNOT_{(j,k)}(X\\otimes I_2) CNOT_{(j,k)} = X \\otimes X$ \n"
   ]
  },
  {
   "cell_type": "code",
   "execution_count": null,
   "metadata": {},
   "outputs": [],
   "source": []
  },
  {
   "cell_type": "markdown",
   "metadata": {},
   "source": [
    "## $(I_2 \\otimes S)e^{i\\frac{\\theta}{2} (X\\otimes X)}(I_2 \\otimes S^{\\dagger})=e^{i\\frac{\\theta}{2} (X\\otimes Y)}$ "
   ]
  },
  {
   "cell_type": "code",
   "execution_count": null,
   "metadata": {},
   "outputs": [],
   "source": []
  },
  {
   "cell_type": "markdown",
   "metadata": {},
   "source": [
    "## $CNOT_{(j,k)} (R_{\\hat{n}}(\\theta)\\otimes I_2)CNOT_{(j,k)}=e^{i\\frac{\\theta}{2}((\\vec{\\sigma} \\cdot \\hat{n})\\otimes (\\vec{\\sigma}\\cdot \\hat{n}))}$"
   ]
  },
  {
   "cell_type": "code",
   "execution_count": null,
   "metadata": {},
   "outputs": [],
   "source": []
  },
  {
   "cell_type": "markdown",
   "metadata": {},
   "source": [
    "## $SWAP = ...$"
   ]
  },
  {
   "cell_type": "markdown",
   "metadata": {},
   "source": [
    "In [this video](https://www.youtube.com/watch?v=-5Ds6n7fmKc), Alonso-Linaje shows how to verify that a SWAP gate can be given in terms of 2-qubit unitaries.\n",
    "\n",
    "In practice, a SWAP gate is rather implemented with only three CNOT gates (see [3_two_qubit_gates.ipynb](3_two_qubit_gates.ipynb)). For one, because the circuit will have a lower [circuit depth](https://qiskit.org/documentation/_images/depth.gif) and thus will be less prone to errors. On the other hand, because the CNOT gate is a native gate in several quantum hardware architectures."
   ]
  },
  {
   "cell_type": "code",
   "execution_count": 17,
   "metadata": {},
   "outputs": [
    {
     "data": {
      "image/png": "[encoded data removed]",
      "text/plain": [
       "<Figure size 1309.06x200.667 with 1 Axes>"
      ]
     },
     "execution_count": 17,
     "metadata": {},
     "output_type": "execute_result"
    }
   ],
   "source": [
    "qr = QuantumRegister(2) # Define the number of qubits in the quantum circuit.\n",
    "qc = QuantumCircuit(qr) # Create the circuit.\n",
    "qc.cnot(0,1)\n",
    "qc.h(0)\n",
    "qc.h(1)\n",
    "\n",
    "qc.barrier()  \n",
    "qc.h(0)\n",
    "qc.h(1)\n",
    "qc.csx(1,0)\n",
    "qc.cnot(0,1)\n",
    "qc.barrier() \n",
    "\n",
    "qc.cnot(1,0)\n",
    "\n",
    "qc.barrier()  \n",
    "qc.h(0)\n",
    "qc.h(1)\n",
    "qc.csx(1,0)\n",
    "qc.cnot(0,1)\n",
    "qc.barrier()  \n",
    "\n",
    "qc.h(0)\n",
    "qc.h(1)\n",
    "qc.draw(output='mpl')  "
   ]
  },
  {
   "cell_type": "code",
   "execution_count": 18,
   "metadata": {},
   "outputs": [
    {
     "data": {
      "text/latex": [
       "$$\n",
       "\\text{Unitary Matrix = }\n",
       "\n",
       "\\begin{bmatrix}\n",
       "1 & 0 & 0 & 0  \\\\\n",
       " 0 & 0 & 1 & 0  \\\\\n",
       " 0 & 1 & 0 & 0  \\\\\n",
       " 0 & 0 & 0 & 1  \\\\\n",
       " \\end{bmatrix}\n",
       "$$"
      ],
      "text/plain": [
       "<IPython.core.display.Latex object>"
      ]
     },
     "execution_count": 18,
     "metadata": {},
     "output_type": "execute_result"
    }
   ],
   "source": [
    "backend = Aer.get_backend('unitary_simulator')\n",
    "job = execute(qc, backend, shots=4000)\n",
    "result = job.result()\n",
    "unitary = result.get_unitary(qc, 2)\n",
    "array_to_latex(unitary, prefix=\"\\\\text{Unitary Matrix = }\\n\")"
   ]
  },
  {
   "cell_type": "code",
   "execution_count": 19,
   "metadata": {},
   "outputs": [
    {
     "data": {
      "image/png": "[encoded data removed]",
      "text/plain": [
       "<Figure size 240.346x200.667 with 1 Axes>"
      ]
     },
     "execution_count": 19,
     "metadata": {},
     "output_type": "execute_result"
    }
   ],
   "source": [
    "# SWAP gate:\n",
    "\n",
    "qr = QuantumRegister(2) # Define the number of qubits in the quantum circuit.\n",
    "qc = QuantumCircuit(qr) # Create the circuit.\n",
    "qc.swap(1,0)\n",
    "qc.draw(output='mpl')  "
   ]
  },
  {
   "cell_type": "code",
   "execution_count": 20,
   "metadata": {},
   "outputs": [
    {
     "data": {
      "text/latex": [
       "$$\n",
       "\\text{Unitary Matrix = }\n",
       "\n",
       "\\begin{bmatrix}\n",
       "1 & 0 & 0 & 0  \\\\\n",
       " 0 & 0 & 1 & 0  \\\\\n",
       " 0 & 1 & 0 & 0  \\\\\n",
       " 0 & 0 & 0 & 1  \\\\\n",
       " \\end{bmatrix}\n",
       "$$"
      ],
      "text/plain": [
       "<IPython.core.display.Latex object>"
      ]
     },
     "execution_count": 20,
     "metadata": {},
     "output_type": "execute_result"
    }
   ],
   "source": [
    "backend = Aer.get_backend('unitary_simulator')\n",
    "job = execute(qc, backend, shots=4000)\n",
    "result = job.result()\n",
    "unitary = result.get_unitary(qc, 2)\n",
    "array_to_latex(unitary, prefix=\"\\\\text{Unitary Matrix = }\\n\")"
   ]
  },
  {
   "cell_type": "markdown",
   "metadata": {
    "id": "5xGtLTpIskCq"
   },
   "source": [
    "# References &nbsp; <a href=\"#\"><img valign=\"middle\" height=\"45px\" src=\"https://img.icons8.com/book\" width=\"45\" hspace=\"0px\" vspace=\"0px\"></a> \n"
   ]
  },
  {
   "cell_type": "markdown",
   "metadata": {
    "id": "8ecrFPfwsmxm"
   },
   "source": [
    "\\[1] Nielsen MA, Chuang IL. 2010. Quantum Computation and Quantum Information. New York: [Cambridge Univ. Press.](https://doi.org/10.1017/CBO9780511976667) 10th Anniv. Ed. \n",
    "- Chapter 4.\n",
    "\n",
    "\\[2] Barenco, A., Bennett, C.H., Cleve, R., DiVincenzo, D.P., Margolus, N., Shor, P., Sleator, T., Smolin, J.A. and Weinfurter, H. (1995) Elementary gates for quantum computation. [Phys. Rev. A 52, 3457–3467](https://journals.aps.org/pra/abstract/10.1103/PhysRevA.52.3457).\n"
   ]
  }
 ],
 "metadata": {
  "colab": {
   "collapsed_sections": [
    "5xGtLTpIskCq"
   ],
   "provenance": []
  },
  "kernelspec": {
   "display_name": "Python 3 (ipykernel)",
   "language": "python",
   "name": "python3"
  },
  "language_info": {
   "codemirror_mode": {
    "name": "ipython",
    "version": 3
   },
   "file_extension": ".py",
   "mimetype": "text/x-python",
   "name": "python",
   "nbconvert_exporter": "python",
   "pygments_lexer": "ipython3",
   "version": "3.11.2"
  }
 },
 "nbformat": 4,
 "nbformat_minor": 1
}
