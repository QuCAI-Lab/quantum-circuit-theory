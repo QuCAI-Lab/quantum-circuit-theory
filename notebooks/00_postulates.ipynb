{
 "cells": [
  {
   "cell_type": "markdown",
   "id": "223d720c",
   "metadata": {},
   "source": [
    "<!-- Badges: -->\n",
    "\n",
    "<!-- Title: -->\n",
    "<div align=\"center\">\n",
    "  <h1><b> Postulates of Quantum Mechanics </b></h1>\n",
    "  <h2> Crash Course - Quantum Circuit Theory </h2>\n",
    "</div>\n",
    "<br>\n",
    "\n",
    "<b>Author:</b> <a target=\"_blank\" href=\"https://github.com/camponogaraviera\">Lucas Camponogara Viera</a>"
   ]
  },
  {
   "cell_type": "markdown",
   "id": "4381e988",
   "metadata": {},
   "source": [
    "<div align='center'>\n",
    "<table class=\"tfo-notebook-buttons\" align=\"head\">\n",
    "  <td>\n",
    "    <a target=\"_blank\" href=\"https://github.com/QuCAI-Lab\"><img src=\"https://www.tensorflow.org/images/GitHub-Mark-32px.png\" /></a>\n",
    "  </td>\n",
    "</table>\n",
    "</div>"
   ]
  },
  {
   "cell_type": "code",
   "execution_count": 1,
   "id": "5c0b5d7f",
   "metadata": {},
   "outputs": [
    {
     "data": {
      "application/javascript": [
       "IPython.notebook.set_autosave_interval(30000)"
      ]
     },
     "metadata": {},
     "output_type": "display_data"
    },
    {
     "name": "stdout",
     "output_type": "stream",
     "text": [
      "Autosaving every 30 seconds\n"
     ]
    }
   ],
   "source": [
    "%autosave 30"
   ]
  },
  {
   "cell_type": "markdown",
   "id": "16c3d43f",
   "metadata": {},
   "source": [
    "The mathematical framework employed in the remainder of this Jupyter notebook is the contemporary matrix mechanics formalism of quantum mechanics initially developed by Werner Heisenberg, Max Born, and Pascual Jordan in a sequel of articles between 1925 and 1926. Within this formalism, the central pivots of the theory are the physical observables (e.g., spin, electric charge, magnetic flux, position, momentum, etc.) represented by Hermitian operators (self-adjoint matrices) where the corresponding eigenvectors form a set of orthonormal basis for the Hilbert space."
   ]
  },
  {
   "cell_type": "markdown",
   "id": "a7c4e71b",
   "metadata": {},
   "source": [
    "# Dirac notation"
   ]
  },
  {
   "cell_type": "markdown",
   "id": "289130a7",
   "metadata": {},
   "source": [
    "- A $d$-dimensional **Ket state** $|\\psi\\rangle$: is a $d$x$1$ tensor (column vector) represented as:\n",
    "\n",
    "$$|\\psi\\rangle = \\begin{bmatrix} \\psi_1 \\\\ \\psi_2 \\\\ \\vdots \\\\ \\psi_d \\end{bmatrix}.$$\n",
    "\n",
    "- A $d$-dimensional **Bra state** $\\langle \\psi| = (|\\psi\\rangle)^{\\dagger}$: a.k.a dual vector (transpose conjugate) is a $1$x$d$ tensor (row vector) represented as:\n",
    "\n",
    "$$\\langle \\psi| = \\begin{bmatrix} \\psi_1^{*}& \\psi_2^{*} \\cdots \\psi^{*}_d \\end{bmatrix}.$$"
   ]
  },
  {
   "cell_type": "markdown",
   "id": "c4032588",
   "metadata": {},
   "source": [
    "# Postulate 1 (State Space)"
   ]
  },
  {
   "cell_type": "markdown",
   "id": "89a4ebe6",
   "metadata": {},
   "source": [
    "Any **isolated (close)** quantum system is completely described by a normalized *state vector* $|\\psi\\rangle$ which is a unit vector embedded in a complex vector space (Hilbert space) $\\mathcal{H}$ known as the *state space* of the system endowed with an inner product $(\\cdot,\\cdot) \\doteq \\langle \\cdot | \\cdot \\rangle$.\n",
    "\n",
    "<br></br>\n",
    "\n",
    "- **First case: Discrete Spectrum.**\n",
    "\n",
    "When the spectrum of the eigenvalues are discrete, the state $|\\psi\\rangle$ of the quantum system is embedded in a Hilbert space $\\mathcal{H}$ of dimension $d=\\dim \\mathcal{H}$. In a complete and discrete orthonormal basis $\\{|o_j\\rangle\\}_{j=1}^d$, the state vector reads\n",
    "\n",
    "\\begin{eqnarray}\n",
    "|\\psi\\rangle \\doteq \\sum_{j=1}^d c_j|o_j\\rangle.\n",
    "\\end{eqnarray}\n",
    "\n",
    "The inner product for orthonormal eigenstates becomes \n",
    "\n",
    "$$\\langle o_j|o_k\\rangle = \\delta_{jk},$$\n",
    "\n",
    "and the probability amplitude $c_j$ associated with the eigenstate $|o_j\\rangle$ is obtained via the Fourier trick \n",
    "\n",
    "$$c_j=\\langle o_j|\\psi\\rangle.$$ \n",
    "\n",
    "- **Second case: Continuous Spectrum.**\n",
    "\n",
    "When the spectrum of the eigenvalues are continous, the state $|\\psi\\rangle$ of the quantum system is embedded in a infinite-dimensional Hilbert space $|\\psi\\rangle \\in \\mathcal{H}$  whose orthonormal basis $\\{|q\\rangle \\}$ is formed by an uncountably infinite set of orthonormal vectors. In this particular case, the state of the quantum system in this basis reads:\n",
    "\n",
    "\\begin{eqnarray}\n",
    "|\\psi\\rangle \\doteq \\int \\psi_{q} |q\\rangle d_{q},\n",
    "\\end{eqnarray}\n",
    "\n",
    "which is a linear combination given in terms of an integral, rather than a sum (See Ref. [2], Section 3.2.3, pg. 103). The inner product thus becomes the Dirac delta distribution\n",
    "\n",
    "\\begin{eqnarray}\n",
    "\\langle q |q'\\rangle  = \\delta (q-q'), \n",
    "\\end{eqnarray}\n",
    "\n",
    "and the analogous Fourier trick gives the complex-valued scalar wave function $\\psi_{q}$ as the probability amplitude:\n",
    "\n",
    "\\begin{eqnarray}\n",
    "\\psi_{q} = \\langle q |\\psi \\rangle.\n",
    "\\end{eqnarray}\n",
    "\n",
    "Note that $\\psi_q$ is the standard wave function of the ubiquitous Schrodinger equation of wave mechanics, often denote by $\\psi(q)$ or $\\psi(x)$ if in the position space."
   ]
  },
  {
   "cell_type": "markdown",
   "id": "a185fe29",
   "metadata": {},
   "source": [
    "# Postulate 2 (Evolution)"
   ]
  },
  {
   "cell_type": "markdown",
   "id": "8feeeffb",
   "metadata": {},
   "source": [
    "The evolution of a **closed quantum system** over time is described by a *unitary transformation* given by the action of the propagator $\\hat{U}_t\\equiv\\hat{U}(t)$ known as the Unitary time evolution operator. Therefore, the global state $|\\psi_t\\rangle$ of the system at time $t$ has evolved from the initial state $|\\psi_0\\rangle$ at time $t=0$ according to:\n",
    "\n",
    "\\begin{equation} \n",
    "|\\psi_t\\rangle=\\hat{U}_t|\\psi_0\\rangle.\n",
    "\\end{equation}  \n",
    "\n",
    "**Note:** in the particular case of closed systems, the evolution operator $\\hat{U}_t$ of the system's global state $|\\psi\\rangle$ is Unitary, however, open quantum systems (systems interacting with its surroundings) described by mixed states, in general, have non-Unitary operators describing the evolution of its subsystems."
   ]
  },
  {
   "cell_type": "markdown",
   "id": "1018983a",
   "metadata": {},
   "source": [
    "# Postulate 3 (Measurement)"
   ]
  },
  {
   "cell_type": "markdown",
   "id": "8780b849",
   "metadata": {},
   "source": [
    "Measurements of a quantum system are described by a collection \\{$M_m$\\} of *measurement operators* acting on the state space of the system with $m$ possible measurement outcomes. If the quantum system is prepared in a general state $|\\psi\\rangle$, the probability associated with a measurement outcome $o_m$ is:\n",
    "\n",
    "\\begin{equation} \n",
    "Pr(o_m)\\doteq\\langle \\psi | M^{\\dagger}_{m} M_{m} |\\psi \\rangle,\n",
    "\\end{equation} \n",
    "\n",
    "and the state of the system immediately after the measurement of the eigenvalue $o_m$ will be:\n",
    "\n",
    "\\begin{align} \n",
    "    |\\psi_{o_m} \\rangle= \\frac{M_{m} |\\psi \\rangle}{\\sqrt{\\langle \\psi | M^{\\dagger}_{m} M_{m} |\\psi \\rangle}}. \n",
    "\\end{align}\n",
    "\n",
    "The measurement operators satisfy the completeness relation:\n",
    "\n",
    "\\begin{equation} \n",
    "\\sum_{m} M_{m}^{\\dagger} M_{m} = \\mathbb{I},\n",
    "\\end{equation}\n",
    "\n",
    "meaning that probabilities must sum to one, i.e, $|\\psi\\rangle$ is normalized:\n",
    "\n",
    "\\begin{equation} \n",
    "\\sum_{m} Pr(o_m) = \\sum_{m} \\langle \\psi | M^{\\dagger}_{m} M_{m} |\\psi \\rangle = 1.\n",
    "\\end{equation}  "
   ]
  },
  {
   "cell_type": "markdown",
   "id": "008d7355",
   "metadata": {},
   "source": [
    "## Projective measurement (a.k.a von Neumann measurement) and Born's rule"
   ]
  },
  {
   "cell_type": "markdown",
   "id": "16d885f6",
   "metadata": {},
   "source": [
    "Recall that a physical observable in quantum mechanics is represented by a Hermitian ($\\hat{\\mathcal{O}}=\\hat{\\mathcal{O}}^{\\dagger}$) and, therefore, Normal ($ \\hat{\\mathcal{O}}\\hat{\\mathcal{O}}^{\\dagger}=\\hat{\\mathcal{O}}^{\\dagger}\\hat{\\mathcal{O}}$) matrix with real eigenvalues and a diagonal representation:\n",
    "\n",
    "\\begin{eqnarray}\n",
    "\\hat{\\mathcal{O}} = \\sum_{j=1}^{d=2^n} o_j P_{o_j}= \\sum_{j=1}^{d=2^n} o_j |o_j\\rangle \\langle o_j|.\n",
    "\\end{eqnarray}\n",
    "\n",
    "Where $P_{o_j}=|o_j\\rangle \\langle o_j|$ is the projector operator onto the eigenspace of the observable $\\hat{\\mathcal{O}}$ with a $d$-dimensional orthonormal basis set $\\{|o_j \\rangle\\}_{j=1}^d$ $\\Big(\\langle o_j|o_k\\rangle=\\delta_{jk}\\Big)$ of eigenvectors $|o_j \\rangle$ with eigenvalues $o_j$.\n",
    "\n",
    "Suppose the state of a quantum system is prepared in the basis of the observable $\\hat{\\mathcal{O}}$ one wants to measure, i.e, $|\\psi\\rangle \\doteq \\sum_{j=1}^d c_j|o_j\\rangle$. A projective measurement (a.k.a von Neumann measurement) entails the following conditional probability for obtaining the eigenvalue $o_j$ of $\\hat{\\mathcal{O}}$:\n",
    "\n",
    "\\begin{eqnarray} \n",
    "Pr(o_j|\\psi\\rangle)&=&\\langle \\psi | P^{\\dagger}_{o_j} P_{o_j} |\\psi \\rangle \\\\ \n",
    "&=& \\langle \\psi | P_{o_j}^2 |\\psi \\rangle\\\\\n",
    "&=& \\langle \\psi| (|o_j\\rangle \\langle o_j|o_k\\rangle \\langle o_k|)| \\psi \\rangle\\\\\n",
    "&=&\\delta_{jk}\\langle\\psi|o_j\\rangle \\langle o_k |\\psi\\rangle \\\\ \n",
    "&=& \\langle\\psi|o_j\\rangle \\langle o_j |\\psi\\rangle \\\\ \n",
    "&=& \\langle \\psi |o_j\\rangle \\langle \\psi| o_j \\rangle^*\\\\\n",
    "&=& |\\langle \\psi|o_j \\rangle|^2=|\\langle o_j|\\psi \\rangle|^2\\\\\n",
    "&=& \\left|\\langle o_j|\\sum_{k=1}^{d=2^n} c_k |o_k\\rangle\\right|^2\\\\\n",
    "&=&  \\left|\\sum_{k=1}^{d=2^n} c_k \\langle o_j|o_k\\rangle\\right|^2\\\\\n",
    "&=&\\left|\\sum_{k=1}^{d=2^n} c_k \\delta_{jk} \\right|^2 = |c_j|^2.\n",
    "\\end{eqnarray} \n",
    "\n",
    "This result is also known as Born's rule:\n",
    "\n",
    "\\begin{eqnarray}\n",
    "Pr(o_j|\\psi\\rangle) \\doteq |\\langle o_j |\\psi \\rangle|^2 = |\\langle \\psi |o_j \\rangle|^2= |c_j|^2.\n",
    "\\end{eqnarray}\n",
    "\n",
    "One can note that $Pr(o_j|\\psi\\rangle)=1$ if and only if $|o_j\\rangle=|\\psi\\rangle$, which is in agreement with the normalization condition:\n",
    "\n",
    "$$\\langle \\psi |\\psi\\rangle=\\Bigg(\\sum_{j=1}^{d=2^n}c_j|o_j\\rangle \\Bigg)^{\\dagger}\\Bigg(\\sum_{k=1}^{d=2^n} c_k |o_k\\rangle \\Bigg)=\\sum_{j,k=1}^{d=2^n} c_j^* c_k \\langle o_j|o_k\\rangle= \\sum_{j,k=1}^{d=2^n} c_j^* c_k \\delta_{jk} = \\sum_{j=1}^{d=2^n}|c_j|^2=\\sum_{j=1}^{d=2^n}Pr(o_j|\\psi\\rangle)=1.$$\n",
    "\n",
    "<br>\n",
    "\n",
    "If the system has evolved from the initial state $|\\psi(0)\\rangle$ to the final state $|\\psi(t)\\rangle$, then:\n",
    "\n",
    "\\begin{eqnarray}\n",
    "Pr(o_j|\\psi_t\\rangle) &=& |\\langle o_j | \\hat{U}(t) |\\psi(0)\\rangle|^2 \\\\\n",
    "&=& |\\langle o_j |\\psi(t)\\rangle|^2.\n",
    "\\end{eqnarray}\n",
    "\n",
    "**Remark**\n",
    "\n",
    "If the state $|\\psi\\rangle$ of the quantum system is an eigenstate of the observable being measured, the measurement outcome is `deterministic` and Einstein is right (god does not play dice). However, when $|\\psi\\rangle$ is not an eigenstate of the observable, then the measurement outcome is `probabilistic` and Einstein is wrong. The latter is a consequence of Heisenberg's uncertainty principle for conjugate observables that do not commute, i.e, $[\\hat{A},\\hat{B}] \\ne \\mathbb{O}$.\n",
    "\n",
    "Examples:\n",
    "\n",
    "- Consider a quantum system in the state $|\\psi\\rangle=|0\\rangle$.\n",
    "  - A measurement in the $\\hat{Z}$ basis is deterministic: $Pr(|0\\rangle)=|\\langle 0|\\psi \\rangle|^2=|\\langle 0|0 \\rangle|^2=1=100\\%$.\n",
    "  - A measurement in the $\\hat{X}$ basis is probabilistic: $Pr(|+\\rangle)=|\\langle +|\\psi \\rangle|^2=|\\langle 0|H|0 \\rangle|^2=1/2=50\\%$.\n",
    "  \n",
    "</br>\n",
    "\n",
    "- Consider a quantum system in the state $|\\psi\\rangle=|+\\rangle = \\frac{1}{\\sqrt{2}}(|0\\rangle + |1\\rangle)$.\n",
    "  - A measurement in the $\\hat{Z}$ basis is probabilistic: $Pr(|0\\rangle)=|\\langle 0|\\psi \\rangle|^2=|\\langle 0|+ \\rangle|^2=1/2=50\\%$.\n",
    "  - A measurement in the $\\hat{X}$ basis is deterministic: $Pr(|+\\rangle)=|\\langle +|\\psi \\rangle|^2=|\\langle +|+ \\rangle|^2=1=100\\%$."
   ]
  },
  {
   "cell_type": "markdown",
   "id": "a08efd99",
   "metadata": {},
   "source": [
    "## Expectation value"
   ]
  },
  {
   "cell_type": "markdown",
   "id": "6e9a56dc",
   "metadata": {},
   "source": [
    "The expected value of an observable $\\hat{\\mathcal{O}} \\in \\mathcal{H}$ in a quantum system prepared in the state $|\\psi\\rangle$ follows the measurement postulate: \n",
    "\n",
    "\\begin{align}\n",
    "\\langle \\hat{\\mathcal{O}}\\rangle &= \\sum_{j=1}^{d=2^n} o_j Pr(o_j|\\psi \\rangle)\\\\\n",
    "&=\\sum_{j=1}^{d=2^n} o_j|\\langle o_j |\\psi \\rangle|^2 \\\\\n",
    "&=\\sum_{j=1}^{d=2^n} o_j  \\langle \\psi |o_j \\rangle \\langle \\psi |o_j \\rangle^* \\\\\n",
    "&=\\sum_{j=1}^{d=2^n} o_j  \\langle \\psi |o_j \\rangle \\langle o_j|\\psi \\rangle \\\\\n",
    "&= \\langle \\psi | \\left(\\sum_{j=1}^{d=2^n} o_j |o_j \\rangle \\langle o_j| \\right) |\\psi \\rangle\\\\\n",
    "&= \\langle \\psi | \\left(\\sum_{j=1}^{d=2^n} o_j P_{o_j} \\right) |\\psi \\rangle\\\\\n",
    "&=\\langle \\psi |\\hat{\\mathcal{O}}|\\psi\\rangle = \\langle 0^{\\otimes n}|\\hat{U}^{\\dagger} \\hat{\\mathcal{O}} \\hat{U}|0^{\\otimes n}\\rangle \\in \\mathbb{R}.\n",
    "\\end{align}\n",
    "\n",
    "Where\n",
    "\n",
    "\\begin{align}\n",
    "|\\psi \\rangle &= \\hat{U} |0^{\\otimes n} \\rangle, \\\\\n",
    "\\langle \\psi | &= |\\psi \\rangle^{\\dagger}= (\\hat{U} |0^{\\otimes n} \\rangle)^{\\dagger} = |0^{\\otimes n} \\rangle^{\\dagger}\\hat{U}^{\\dagger} = \\langle 0^{\\otimes n}|\\hat{U}^{\\dagger},\n",
    "\\end{align}\n",
    "\n",
    "and $\\hat{U}$ denotes the unitary evolution operator, i.e, the quantum circuit that evolves the initial state $|0^{\\otimes n}\\rangle$ to the final state $|\\psi\\rangle$."
   ]
  },
  {
   "cell_type": "markdown",
   "id": "ebcb5344",
   "metadata": {},
   "source": [
    "# 4 Postulate (Composite State)"
   ]
  },
  {
   "cell_type": "markdown",
   "id": "9e5ab96c",
   "metadata": {},
   "source": [
    "Consider a quantum system composed of $N$ arbitrary subsystems, where subsystem $s$ is prepared in a qudit state $|\\psi_{s}\\rangle = \\sum_{j=1}^{d_s} c_{j_s} |o_{j}\\rangle_s$ embedded in a $d_s$-dimensional Hilbert space $\\mathcal{H}_s^{d_s}$ with orthonormal basis $\\{|o_{j}\\rangle_s \\}|_{j=1}^{d_s}$. The Hilbert state space $\\mathcal{H}^{d}_{1\\cdots N}$ of the composite physical system is given by the tensor product of its constituent Hilbert spaces (the state space of its subsystems or component physical systems): \n",
    "\n",
    "$$\\mathcal{H}^{d}_{1\\cdots N}=\\otimes_{s=1}^N \\mathcal{H}_s^{d_s}=\\mathcal{H}_1^{d_1} \\otimes \\mathcal{H}_2^{d_2} \\otimes \\cdots \\otimes \\mathcal{H}_N^{d_N},$$\n",
    "\n",
    "where $d=\\prod_{s=1}^N d_s$ is the dimension of the composite space. And the corresponding orthonormal basis of the composite state space is obtained from the tensor product between the basis of each constituent state space: \n",
    "\n",
    "$$\\{|o_{j}\\rangle \\}|_{j=1}^{d}=\\{|o_{j}\\rangle_s \\otimes \\cdot\\cdot\\cdot \\otimes|o_{k}\\rangle_N \\}|_{j,\\cdots,k=1}^{d_s,\\cdots,d_N}.$$ "
   ]
  },
  {
   "cell_type": "markdown",
   "id": "f16459ff",
   "metadata": {},
   "source": [
    "# &nbsp; <a href=\"#\"><img valign=\"middle\" height=\"45px\" src=\"https://img.icons8.com/book\" width=\"45\" hspace=\"0px\" vspace=\"0px\"></a> References<a name=\"ref\" />"
   ]
  },
  {
   "cell_type": "markdown",
   "id": "654a5bf3",
   "metadata": {},
   "source": [
    "[1] [Introduction to Quantum Mechanics: Griffiths, David J.](https://www.fisica.net/mecanica-quantica/Griffiths%20-%20Introduction%20to%20quantum%20mechanics.pdf).\n",
    "\n",
    "[2] Nielsen MA, Chuang IL. 2010. Quantum Computation and Quantum Information. New York: [Cambridge Univ. Press.](https://doi.org/10.1017/CBO9780511976667) 10th Anniv. Ed."
   ]
  }
 ],
 "metadata": {
  "kernelspec": {
   "display_name": "Python 3 (ipykernel)",
   "language": "python",
   "name": "python3"
  },
  "language_info": {
   "codemirror_mode": {
    "name": "ipython",
    "version": 3
   },
   "file_extension": ".py",
   "mimetype": "text/x-python",
   "name": "python",
   "nbconvert_exporter": "python",
   "pygments_lexer": "ipython3",
   "version": "3.11.2"
  }
 },
 "nbformat": 4,
 "nbformat_minor": 5
}
