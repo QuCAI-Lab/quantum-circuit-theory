{
 "cells": [
  {
   "cell_type": "markdown",
   "metadata": {
    "id": "CuSWcHwc0SVj"
   },
   "source": [
    "<!-- Badges: -->\n",
    "\n",
    "<!-- Title: -->\n",
    "<div align=\"center\">\n",
    "  <h1><b> Trotterization </b></h1>\n",
    "  <h2> Crash Course - Quantum Circuit Theory </h2>\n",
    "</div>\n",
    "<br>\n",
    "\n",
    "<b>Author:</b> <a target=\"_blank\" href=\"https://github.com/camponogaraviera\">Lucas Camponogara Viera</a>"
   ]
  },
  {
   "cell_type": "markdown",
   "metadata": {
    "id": "0U_0A5LcqCVY"
   },
   "source": [
    "<div align='center'>\n",
    "<table class=\"tfo-notebook-buttons\" align=\"head\">\n",
    "  <td>\n",
    "    <a target=\"_blank\" href=\"https://github.com/QuCAI-Lab/quantum-circuit-theory\"><img src=\"https://www.tensorflow.org/images/GitHub-Mark-32px.png\" /></a>\n",
    "  </td>\n",
    "</table>\n",
    "</div>"
   ]
  },
  {
   "cell_type": "markdown",
   "metadata": {
    "id": "51xuHXqH67rc"
   },
   "source": [
    "# The Trotter-Susuki formula"
   ]
  },
  {
   "cell_type": "markdown",
   "metadata": {
    "id": "jY0xoxYp8bI8"
   },
   "source": [
    "Consider the following decomposition for a general Hamiltonian $\\hat{H}$:\n",
    "\n",
    "\\begin{align}\n",
    "\\hat{H} = \\hat{H}_a + \\hat{H}_b.\n",
    "\\end{align}\n",
    "\n",
    "If the reduced Hamiltonians commute, i.e, $[\\hat{H}_{a},\\hat{H}_{b}]=\\mathbb{O}$, then the evolution operator is a product of reduced evolution operators:\n",
    "\n",
    "\\begin{align}\n",
    "\\hat{U} = e^{-i\\hat{H}t/ħ} = e^{-i\\hat{H}_{a}t/\\hbar-i\\hat{H}_{b}t/\\hbar} = e^{-i\\hat{H}_{a}t/\\hbar}e^{-i\\hat{H}_{b}t/\\hbar} = \\hat{U}_{a}\\hat{U}_{b} = \\hat{U}_{b}\\hat{U}_{a}.\n",
    "\\end{align}\n",
    "\n",
    "\n",
    "\n",
    "\n"
   ]
  },
  {
   "cell_type": "markdown",
   "metadata": {
    "id": "lPlERZHD8dY1"
   },
   "source": [
    "In the case where $[H_a^{(0,1)},H_b^{(1,2)}]\\ne\\mathbb{O}$, one cannot simply write the evolution operator $\\hat{U}$ as a product of evolution operators, therefore, another method must be adopted. There are several techniques to approximate a time Unitary evolution $\\hat{U}=e^{-i\\hat{H}t/\\hbar}$ into gate operations for quantum simulation, to name a few:\n",
    "\n",
    "1. Trotter-Susuki formula.\n",
    "2. Randomized evolution (Qdrift, density matrix exponentiation).\n",
    "3. Linear combination of unitaries.\n",
    "4. Quantum Walks (Qubitization).\n",
    "\n"
   ]
  },
  {
   "cell_type": "markdown",
   "metadata": {
    "id": "1L7ylXjB8fDs"
   },
   "source": [
    "The Lie product formula (a.k.a Trotter-Susuki formula) is defined as (setting $\\hbar\\equiv1$):\n",
    "\n",
    "\\begin{align}\n",
    "U_{Trotter}(t) = e^{-it\\Big(\\hat{H}_a + \\hat{H}_b\\Big)} \\equiv \\lim_{N\\rightarrow\\infty}\\Big(e^{-it \\hat{H}_a/N}e^{-it \\hat{H}_b /N}\\Big)^{N}.\n",
    "\\end{align}\n",
    "\n",
    "Advantages of using Trotterization:\n",
    "\n",
    "- The algorithm is ancilla-free.\n",
    "\n",
    "- It leverages the commutative property of the component Hamiltonians to achieve efficient simulation.\n",
    "\n",
    "- It preserves the locality property of some unidimensional systems with nearest neighbor interactions enabling quantum simulation speed up.\n",
    "\n",
    "\n",
    "\n",
    "\n",
    "\n"
   ]
  },
  {
   "cell_type": "markdown",
   "metadata": {
    "id": "M6wCWiPk8gqb"
   },
   "source": [
    "The outline of the Trotterization algorithm a.k.a as product-formula method or splitting method is as follows:\n",
    "\n",
    "**1.** Write the Hamiltonian operator $\\hat{H}$ of the system of interest in the form:\n",
    "\n",
    "\\begin{eqnarray}\n",
    "\\hat{H}= \\sum_{\\gamma=1}^{\\Gamma} \\hat{H}_{\\gamma},\n",
    "\\end{eqnarray}\n",
    "where $\\hat{H}_{\\gamma}$ is itself a Hermitian operator.\n",
    "\n",
    "**2.** Write the unitary evolution operator $U$ in terms of product of exponentials using the first-order Lie-Trotter formula defined as:\n",
    "\n",
    "\\begin{eqnarray}\n",
    "\\mathcal{L}_1(t) = e^{-it \\hat{H}_{1}} \\cdots e^{-it \\hat{H}_{\\Gamma}} = e^{-it \\hat{H}} + O(t^2),\n",
    "\\end{eqnarray}\n",
    "where $O(t^2)$ is the trotter error.\n",
    "\n",
    "**3.** Perform $e^{-it\\hat{H}}$ up to some error $\\epsilon$ according to the spectral norm:\n",
    "\n",
    "\\begin{eqnarray}\n",
    "||\\hat{U}-e^{-it\\hat{H}}|| \\leq \\epsilon.\n",
    "\\end{eqnarray}\n",
    "\n",
    "**4.** Define the total cost of the simulation as:\n",
    "\\begin{eqnarray}\n",
    "\\text{total cost} = \\text{no. of steps } \\times \\text{ cost}/\\text{step}.\n",
    "\\end{eqnarray}\n",
    "\n",
    "In step 3, each exponential in the evolution operator $U_{\\text{Heis3}}(t)$ is transpiled into a quantum gate."
   ]
  },
  {
   "cell_type": "markdown",
   "metadata": {
    "id": "7I355p1S8jDl"
   },
   "source": [
    "# Example"
   ]
  },
  {
   "cell_type": "markdown",
   "metadata": {
    "id": "PIIagqGO9JCd"
   },
   "source": [
    "See the [supplementary.ipynb](https://github.com/QuCAI-Lab/ibm2021-open-science-prize/blob/dev/supplementary.ipynb) material of the `ibm2021-open-science-prize` for an application of the Trotter-Susuki formula in the XXX Heisenberg Model Hamiltonian for a System of Three Interacting Spin-1/2 Particles.\n",
    "\n",
    "Navigate until section \"Decomposition of $U_{\\text{Heis3}}(t)$ using Trotterization\"."
   ]
  }
 ],
 "metadata": {
  "colab": {
   "collapsed_sections": [
    "51xuHXqH67rc",
    "7I355p1S8jDl"
   ],
   "provenance": []
  },
  "kernelspec": {
   "display_name": "Python 3 (ipykernel)",
   "language": "python",
   "name": "python3"
  },
  "language_info": {
   "codemirror_mode": {
    "name": "ipython",
    "version": 3
   },
   "file_extension": ".py",
   "mimetype": "text/x-python",
   "name": "python",
   "nbconvert_exporter": "python",
   "pygments_lexer": "ipython3",
   "version": "3.11.2"
  }
 },
 "nbformat": 4,
 "nbformat_minor": 1
}
